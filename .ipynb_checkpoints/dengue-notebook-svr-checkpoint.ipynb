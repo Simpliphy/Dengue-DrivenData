{
 "cells": [
  {
   "cell_type": "code",
   "execution_count": 1,
   "metadata": {
    "collapsed": true
   },
   "outputs": [],
   "source": [
    "import pandas as pd\n",
    "import numpy as np\n",
    "import matplotlib.pyplot as plt\n",
    "import seaborn as sns\n",
    "from IPython.display import HTML\n",
    "\n",
    "%matplotlib inline"
   ]
  },
  {
   "cell_type": "code",
   "execution_count": 2,
   "metadata": {
    "collapsed": false
   },
   "outputs": [
    {
     "name": "stdout",
     "output_type": "stream",
     "text": [
      "\u001b[01;34m.\u001b[00m\r\n",
      "├── 1-Data-exploration.ipynb\r\n",
      "├── benchmark_arima.csv\r\n",
      "├── benchmark.csv\r\n",
      "├── \u001b[01;34mbenchmarks-master\u001b[00m\r\n",
      "│   ├── bees-benchmark.ipynb\r\n",
      "│   ├── dengue-benchmark-statsmodels.ipynb\r\n",
      "│   ├── fogwater-benchmark-model.ipynb\r\n",
      "│   ├── LICENSE\r\n",
      "│   └── README.md\r\n",
      "├── \u001b[01;31mbenchmarks-master.zip\u001b[00m\r\n",
      "├── Dengue-benchmark-ARIMA.ipynb\r\n",
      "├── dengue_features_test.csv\r\n",
      "├── dengue_features_train.csv\r\n",
      "├── dengue_labels_train.csv\r\n",
      "├── dengue-notebook.ipynb\r\n",
      "├── dengue-notebook-Regressions.ipynb\r\n",
      "├── dengue-notebook-Ridge.ipynb\r\n",
      "├── dengue-notebook-svr.ipynb\r\n",
      "├── \u001b[01;35mIquitos-plaza.jpg\u001b[00m\r\n",
      "├── random_forest_regression_all_features.csv\r\n",
      "├── random_forest_regression.csv\r\n",
      "├── random_forest_regression_test_more_lags_Iquitos.csv\r\n",
      "├── README.md\r\n",
      "├── results.csv\r\n",
      "├── results_lasso.csv\r\n",
      "├── results_RandomForestRegression.csv\r\n",
      "├── results_Ridge.csv\r\n",
      "├── San_Juan-Puerto_Rico.JPG\r\n",
      "└── submission_format.csv\r\n",
      "\r\n",
      "1 directory, 28 files\r\n"
     ]
    }
   ],
   "source": [
    "!tree"
   ]
  },
  {
   "cell_type": "markdown",
   "metadata": {},
   "source": [
    "# Data import"
   ]
  },
  {
   "cell_type": "markdown",
   "metadata": {},
   "source": [
    "## Preprocessing of the data"
   ]
  },
  {
   "cell_type": "code",
   "execution_count": 3,
   "metadata": {
    "collapsed": false
   },
   "outputs": [],
   "source": [
    "# load the provided data\n",
    "train_features = pd.read_csv('dengue_features_train.csv')\n",
    "train_labels = pd.read_csv('dengue_labels_train.csv')"
   ]
  },
  {
   "cell_type": "code",
   "execution_count": 4,
   "metadata": {
    "collapsed": false
   },
   "outputs": [
    {
     "data": {
      "text/plain": [
       "Index(['city', 'year', 'weekofyear', 'week_start_date', 'ndvi_ne', 'ndvi_nw',\n",
       "       'ndvi_se', 'ndvi_sw', 'precipitation_amt_mm', 'reanalysis_air_temp_k',\n",
       "       'reanalysis_avg_temp_k', 'reanalysis_dew_point_temp_k',\n",
       "       'reanalysis_max_air_temp_k', 'reanalysis_min_air_temp_k',\n",
       "       'reanalysis_precip_amt_kg_per_m2',\n",
       "       'reanalysis_relative_humidity_percent', 'reanalysis_sat_precip_amt_mm',\n",
       "       'reanalysis_specific_humidity_g_per_kg', 'reanalysis_tdtr_k',\n",
       "       'station_avg_temp_c', 'station_diur_temp_rng_c', 'station_max_temp_c',\n",
       "       'station_min_temp_c', 'station_precip_mm'],\n",
       "      dtype='object')"
      ]
     },
     "execution_count": 4,
     "metadata": {},
     "output_type": "execute_result"
    }
   ],
   "source": [
    "\n",
    "train_features.columns"
   ]
  },
  {
   "cell_type": "code",
   "execution_count": null,
   "metadata": {
    "collapsed": true
   },
   "outputs": [],
   "source": []
  },
  {
   "cell_type": "code",
   "execution_count": 5,
   "metadata": {
    "collapsed": true
   },
   "outputs": [],
   "source": [
    "def add_lag(dataframe, columns,number_of_lag):\n",
    "    \n",
    "    for column in columns: # for each feature (column)\n",
    "        for lag in range(number_of_lag): # for each time step (lag)\n",
    "            dataframe[column + \"_time - \"+ str(lag)] = dataframe[column].shift(lag) # copy the previous value\n",
    "            \n",
    "    #remove the first number_of_lag rows\n",
    "    dataframe.fillna(method='backfill', inplace=True)\n",
    "    \n",
    "    return dataframe\n",
    "\n",
    "def preprocess_data(data_path, labels_path=None):\n",
    "    \n",
    "    lag_step_for_SanJuan = 15\n",
    "    lag_step_for_Iquitos = 40\n",
    "    \n",
    "    # load data and set index to city, year, weekofyear\n",
    "    df = pd.read_csv(data_path, index_col=[0, 1, 2])\n",
    "        \n",
    "    features = ['ndvi_ne', 'ndvi_nw',\n",
    "       'ndvi_se', 'ndvi_sw', 'precipitation_amt_mm', 'reanalysis_air_temp_k',\n",
    "       'reanalysis_avg_temp_k', 'reanalysis_dew_point_temp_k',\n",
    "       'reanalysis_max_air_temp_k', 'reanalysis_min_air_temp_k',\n",
    "       'reanalysis_precip_amt_kg_per_m2',\n",
    "       'reanalysis_relative_humidity_percent', 'reanalysis_sat_precip_amt_mm',\n",
    "       'reanalysis_specific_humidity_g_per_kg', 'reanalysis_tdtr_k',\n",
    "       'station_avg_temp_c', 'station_diur_temp_rng_c', 'station_max_temp_c',\n",
    "       'station_min_temp_c', 'station_precip_mm']\n",
    "    \n",
    "    df = df[features]\n",
    "    \n",
    "    # fill missing values\n",
    "    df.fillna(method='ffill', inplace=True)\n",
    "\n",
    "    # add labels to dataframe\n",
    "    if labels_path:\n",
    "        labels = pd.read_csv(labels_path, index_col=[0, 1, 2])\n",
    "        df = df.join(labels)\n",
    "    \n",
    "    # separate san juan and iquitos\n",
    "    sj = df.loc['sj']\n",
    "    iq = df.loc['iq']\n",
    "    \n",
    "    #add lag\n",
    "    sj = add_lag(sj, features, lag_step_for_SanJuan)\n",
    "    iq = add_lag(iq, features, lag_step_for_Iquitos)\n",
    "    \n",
    "    # fill navalues\n",
    "    sj.fillna(method='backfill', inplace=True)\n",
    "    iq.fillna(method='backfill', inplace=True)\n",
    "    \n",
    "    return sj, iq"
   ]
  },
  {
   "cell_type": "code",
   "execution_count": null,
   "metadata": {
    "collapsed": false
   },
   "outputs": [],
   "source": []
  },
  {
   "cell_type": "code",
   "execution_count": 6,
   "metadata": {
    "collapsed": false
   },
   "outputs": [
    {
     "name": "stderr",
     "output_type": "stream",
     "text": [
      "/home/louis/anaconda3/lib/python3.6/site-packages/ipykernel/__main__.py:5: SettingWithCopyWarning: \n",
      "A value is trying to be set on a copy of a slice from a DataFrame.\n",
      "Try using .loc[row_indexer,col_indexer] = value instead\n",
      "\n",
      "See the caveats in the documentation: http://pandas.pydata.org/pandas-docs/stable/indexing.html#indexing-view-versus-copy\n",
      "/home/louis/anaconda3/lib/python3.6/site-packages/pandas/core/frame.py:2852: SettingWithCopyWarning: \n",
      "A value is trying to be set on a copy of a slice from a DataFrame\n",
      "\n",
      "See the caveats in the documentation: http://pandas.pydata.org/pandas-docs/stable/indexing.html#indexing-view-versus-copy\n",
      "  downcast=downcast, **kwargs)\n"
     ]
    }
   ],
   "source": [
    "sj_train, iq_train = preprocess_data('dengue_features_train.csv',\n",
    "                                    labels_path=\"dengue_labels_train.csv\")\n",
    "\n"
   ]
  },
  {
   "cell_type": "markdown",
   "metadata": {},
   "source": [
    "## Training "
   ]
  },
  {
   "cell_type": "code",
   "execution_count": 7,
   "metadata": {
    "collapsed": false
   },
   "outputs": [],
   "source": [
    "from sklearn.svm import SVR\n",
    "from math import floor"
   ]
  },
  {
   "cell_type": "code",
   "execution_count": 8,
   "metadata": {
    "collapsed": true
   },
   "outputs": [],
   "source": [
    "#from sklearn.model_selection import TimeSeriesSplit\n",
    "#>>> X = np.array([[1, 2], [3, 4], [1, 2], [3, 4]])\n",
    "#>>> y = np.array([1, 2, 3, 4])\n",
    "#>>> tscv = TimeSeriesSplit(n_splits=3)\n",
    "#>>> print(tscv)  \n",
    "#TimeSeriesSplit(max_train_size=None, n_splits=3)\n",
    "#>>> for train_index, test_index in tscv.split(X):\n",
    "#...    print(\"TRAIN:\", train_index, \"TEST:\", test_index)\n",
    "#...    X_train, X_test = X[train_index], X[test_index]\n",
    "#...    y_train, y_test = y[train_index], y[test_index]\n",
    "#TRAIN: [0] TEST: [1]\n",
    "#TRAIN: [0 1] TEST: [2]\n",
    "#TRAIN: [0 1 2] TEST: [3]"
   ]
  },
  {
   "cell_type": "code",
   "execution_count": 9,
   "metadata": {
    "collapsed": false
   },
   "outputs": [],
   "source": [
    "sj_features  = sj_train.drop('total_cases', axis =1)\n",
    "sj_targets = sj_train['total_cases']\n",
    "\n",
    "iq_features  = iq_train.drop('total_cases', axis =1)\n",
    "iq_targets = iq_train['total_cases']\n",
    "\n",
    "def split_time_series(X, y, test_set_ratio):\n",
    "    \n",
    "\n",
    "    number_of_examples = X.shape[0]\n",
    "    last_index_in_train_set = floor( (1-test_set_ratio)*number_of_examples )\n",
    "    \n",
    "    X_train = X[:last_index_in_train_set]\n",
    "    X_test = X[last_index_in_train_set:]\n",
    "    \n",
    "    y_train = y[:last_index_in_train_set]\n",
    "    y_test = y[last_index_in_train_set:]\n",
    "    \n",
    "    return X_train, X_test, y_train, y_test\n",
    "\n",
    "\n",
    "test_set_ratio = 0.3 \n",
    "\n",
    "X_sj_train, X_sj_test, y_sj_train, y_sj_test = split_time_series(sj_features, sj_targets, test_set_ratio)\n",
    "X_iq_train, X_iq_test, y_iq_train, y_iq_test = split_time_series(iq_features, iq_targets, test_set_ratio)\n"
   ]
  },
  {
   "cell_type": "code",
   "execution_count": 10,
   "metadata": {
    "collapsed": false
   },
   "outputs": [],
   "source": [
    "from sklearn.metrics import mean_absolute_error\n",
    "\n",
    "# for San Juan\n",
    "def find_best_params(X_train,y_train,X_val,y_val,param1_list,param2_list):\n",
    "    \n",
    "    print(\"mean_absolute_error [param1,param2]: mae\")\n",
    "    scores_mean_absolute_error = np.zeros((len(param1_list), len(param2_list) ))\n",
    "    best_score_mean_absolute_error = float(\"inf\")\n",
    "    best_parameters = [0,0]\n",
    "    \n",
    "    for i  in range(len(param1_list)):\n",
    "        for j in range(len(param2_list)):\n",
    "\n",
    "            param1 = param1_list[i]\n",
    "            param2 = param2_list[j]\n",
    "\n",
    "            regressor_SVR = SVR(C=param1, epsilon = param2)\n",
    "            regressor_SVR.fit(X_train,y_train)\n",
    "            predictions = regressor_SVR.predict(X_val)\n",
    "\n",
    "            mean_absolute_error_ = mean_absolute_error(y_val, predictions)\n",
    "            print(\"mean_absolute_error [{0},{1}]: {2}\".format(param1,param2,mean_absolute_error_))\n",
    "            scores_mean_absolute_error[i,j] = mean_absolute_error_\n",
    "\n",
    "            if mean_absolute_error_ < best_score_mean_absolute_error:\n",
    "               best_score_mean_absolute_error = mean_absolute_error_\n",
    "               best_parameters = [param1, param2] \n",
    "    \n",
    "        \n",
    "\n",
    "    print(\"\\n-------------------------\")\n",
    "    print(\"best_mean_absolute_error: {0}\".format(best_score_mean_absolute_error))         \n",
    "    print(\"parameter 1: {0}\".format(best_parameters[0]))         \n",
    "    print(\"parameter 2: {0}\".format(best_parameters[1])) \n",
    "    print(\"-------------------------\\n\")\n",
    "    \n",
    "    best_param1 = best_parameters[0]\n",
    "    best_param2 = best_parameters[1]\n",
    "    \n",
    "    return best_param1, best_param2,scores_mean_absolute_error"
   ]
  },
  {
   "cell_type": "code",
   "execution_count": 11,
   "metadata": {
    "collapsed": false
   },
   "outputs": [
    {
     "name": "stdout",
     "output_type": "stream",
     "text": [
      "mean_absolute_error [param1,param2]: mae\n",
      "mean_absolute_error [0.1,0.01]: 17.83834964412812\n",
      "mean_absolute_error [0.1,0.1]: 17.88543149466192\n",
      "mean_absolute_error [0.1,1.0]: 18.276690391459073\n",
      "mean_absolute_error [0.1,1.5]: 18.063474603688125\n",
      "mean_absolute_error [0.2,0.01]: 17.87431494661922\n",
      "mean_absolute_error [0.2,0.1]: 17.921396797153033\n",
      "mean_absolute_error [0.2,1.0]: 18.23309608540925\n",
      "mean_absolute_error [0.2,1.5]: 18.068230346166285\n",
      "mean_absolute_error [0.5,0.01]: 17.982210854092525\n",
      "mean_absolute_error [0.5,0.1]: 18.021053380782924\n",
      "mean_absolute_error [0.5,1.0]: 18.102313167259787\n",
      "mean_absolute_error [0.5,1.5]: 18.082497573600783\n",
      "mean_absolute_error [1.0,0.01]: 18.02879572953737\n",
      "mean_absolute_error [1.0,0.1]: 18.04197864768684\n",
      "mean_absolute_error [1.0,1.0]: 18.092836144205478\n",
      "mean_absolute_error [1.0,1.5]: 18.082497573600783\n",
      "mean_absolute_error [1.5,0.01]: 18.053923487544484\n",
      "mean_absolute_error [1.5,0.1]: 18.059808718861213\n",
      "mean_absolute_error [1.5,1.0]: 18.089491312539252\n",
      "mean_absolute_error [1.5,1.5]: 18.075066725978647\n",
      "mean_absolute_error [2.0,0.01]: 18.059372775800725\n",
      "mean_absolute_error [2.0,0.1]: 18.065258007117457\n",
      "mean_absolute_error [2.0,1.0]: 18.082497573600783\n",
      "mean_absolute_error [2.0,1.5]: 18.07147817029772\n",
      "\n",
      "-------------------------\n",
      "best_mean_absolute_error: 17.83834964412812\n",
      "parameter 1: 0.1\n",
      "parameter 2: 0.01\n",
      "-------------------------\n",
      "\n"
     ]
    }
   ],
   "source": [
    "c_parameter_SanJuan = [0.1, 0.2, 0.5, 1.0, 1.5, 2.0]\n",
    "epsilon_SanJuan = [0.01, 0.1, 1.0, 1.5]\n",
    "\n",
    "param1_sj, param2_sj, scores__mean_absulute_error_sj = find_best_params(X_sj_train,\n",
    "                                                                                 y_sj_train,\n",
    "                                                                                 X_sj_test,\n",
    "                                                                                 y_sj_test,\n",
    "                                                                                 c_parameter_SanJuan,\n",
    "                                                                                 epsilon_SanJuan)"
   ]
  },
  {
   "cell_type": "code",
   "execution_count": 12,
   "metadata": {
    "collapsed": false
   },
   "outputs": [
    {
     "data": {
      "image/png": "[encoded data removed]",
      "text/plain": [
       "<matplotlib.figure.Figure at 0x7fdb5004b198>"
      ]
     },
     "metadata": {},
     "output_type": "display_data"
    }
   ],
   "source": [
    "plt.figure(figsize=(8, 6))\n",
    "plt.subplots_adjust(left=.2, right=0.95, bottom=0.15, top=0.95)\n",
    "plt.imshow(scores__mean_absulute_error_sj, interpolation='nearest', cmap=plt.cm.hot_r)\n",
    "plt.ylabel('n_estimators')\n",
    "plt.xlabel('max_depth')\n",
    "plt.colorbar()\n",
    "plt.yticks(np.arange(len(c_parameter_SanJuan)), c_parameter_SanJuan, rotation=45)\n",
    "plt.xticks(np.arange(len(epsilon_SanJuan)), epsilon_SanJuan)\n",
    "plt.title('Validation accuracy for San Juan')\n",
    "plt.show()"
   ]
  },
  {
   "cell_type": "code",
   "execution_count": 13,
   "metadata": {
    "collapsed": false
   },
   "outputs": [
    {
     "name": "stdout",
     "output_type": "stream",
     "text": [
      "mean_absolute_error [param1,param2]: mae\n",
      "mean_absolute_error [0.1,0.01]: 7.685085470085471\n",
      "mean_absolute_error [0.1,0.1]: 7.6700854700854695\n",
      "mean_absolute_error [0.1,1.0]: 7.690858416945375\n",
      "mean_absolute_error [0.1,1.5]: 7.624491600353669\n",
      "mean_absolute_error [0.1,2.0]: 7.6897035256410255\n",
      "mean_absolute_error [0.1,5.0]: 7.529502287399836\n",
      "mean_absolute_error [0.1,10.0]: 8.55061847977248\n",
      "mean_absolute_error [0.2,0.01]: 7.6795299145299145\n",
      "mean_absolute_error [0.2,0.1]: 7.664529914529915\n",
      "mean_absolute_error [0.2,1.0]: 7.689409141583055\n",
      "mean_absolute_error [0.2,1.5]: 7.640008841732979\n",
      "mean_absolute_error [0.2,2.0]: 7.687099358974359\n",
      "mean_absolute_error [0.2,5.0]: 7.533363549158648\n",
      "mean_absolute_error [0.2,10.0]: 8.562775421083428\n",
      "mean_absolute_error [0.5,0.01]: 7.662863247863249\n",
      "mean_absolute_error [0.5,0.1]: 7.647863247863247\n",
      "mean_absolute_error [0.5,1.0]: 7.685061315496098\n",
      "mean_absolute_error [0.5,1.5]: 7.686560565870911\n",
      "mean_absolute_error [0.5,2.0]: 7.679286858974359\n",
      "mean_absolute_error [0.5,5.0]: 7.5449473347515665\n",
      "mean_absolute_error [0.5,10.0]: 8.599246245016275\n",
      "mean_absolute_error [1.0,0.01]: 7.670418803418804\n",
      "mean_absolute_error [1.0,0.1]: 7.673418803418803\n",
      "mean_absolute_error [1.0,1.0]: 7.685897435897436\n",
      "mean_absolute_error [1.0,1.5]: 7.682744850777637\n",
      "mean_absolute_error [1.0,2.0]: 7.675967823026647\n",
      "mean_absolute_error [1.0,5.0]: 7.560189134177938\n",
      "mean_absolute_error [1.0,10.0]: 8.654567126444316\n",
      "mean_absolute_error [1.5,0.01]: 7.674807692307693\n",
      "mean_absolute_error [1.5,0.1]: 7.671719457013574\n",
      "mean_absolute_error [1.5,1.0]: 7.68337912087912\n",
      "mean_absolute_error [1.5,1.5]: 7.679807692307692\n",
      "mean_absolute_error [1.5,2.0]: 7.6655587211142775\n",
      "mean_absolute_error [1.5,5.0]: 7.573590007890586\n",
      "mean_absolute_error [1.5,10.0]: 8.703688720171577\n",
      "mean_absolute_error [2.0,0.01]: 7.678819719799103\n",
      "mean_absolute_error [2.0,0.1]: 7.680445830445831\n",
      "mean_absolute_error [2.0,1.0]: 7.680980831466268\n",
      "mean_absolute_error [2.0,1.5]: 7.671095571095571\n",
      "mean_absolute_error [2.0,2.0]: 7.656593406593408\n",
      "mean_absolute_error [2.0,5.0]: 7.597070302316843\n",
      "mean_absolute_error [2.0,10.0]: 8.745820640353681\n",
      "mean_absolute_error [5.0,0.01]: 7.627100122982345\n",
      "mean_absolute_error [5.0,0.1]: 7.622718699863788\n",
      "mean_absolute_error [5.0,1.0]: 7.5746592980359875\n",
      "mean_absolute_error [5.0,1.5]: 7.541882638439459\n",
      "mean_absolute_error [5.0,2.0]: 7.5323404310551885\n",
      "mean_absolute_error [5.0,5.0]: 7.724281253088331\n",
      "mean_absolute_error [5.0,10.0]: 8.959472907233204\n",
      "mean_absolute_error [10.0,0.01]: 7.537010315405653\n",
      "mean_absolute_error [10.0,0.1]: 7.538501434385621\n",
      "mean_absolute_error [10.0,1.0]: 7.553630601366751\n",
      "mean_absolute_error [10.0,1.5]: 7.564153312069332\n",
      "mean_absolute_error [10.0,2.0]: 7.576274412821628\n",
      "mean_absolute_error [10.0,5.0]: 7.882516639233344\n",
      "mean_absolute_error [10.0,10.0]: 9.145762325522483\n",
      "\n",
      "-------------------------\n",
      "best_mean_absolute_error: 7.529502287399836\n",
      "parameter 1: 0.1\n",
      "parameter 2: 5.0\n",
      "-------------------------\n",
      "\n"
     ]
    }
   ],
   "source": [
    "c_parameter_Iquitos = [0.1, 0.2, 0.5, 1.0, 1.5, 2.0,5.0,10.0]\n",
    "epsilon_Iquitos = [0.01, 0.1, 1.0, 1.5,2.0, 5.0,10.0]\n",
    "\n",
    "param1_iq, param2_iq, scores__mean_absulute_error_iq = find_best_params(X_iq_train,\n",
    "                                                                                 y_iq_train,\n",
    "                                                                                 X_iq_test,\n",
    "                                                                                 y_iq_test,\n",
    "                                                                                 c_parameter_Iquitos,\n",
    "                                                                                 epsilon_Iquitos)"
   ]
  },
  {
   "cell_type": "code",
   "execution_count": 14,
   "metadata": {
    "collapsed": false
   },
   "outputs": [
    {
     "data": {
      "image/png": "[encoded data removed]",
      "text/plain": [
       "<matplotlib.figure.Figure at 0x7fdb50068400>"
      ]
     },
     "metadata": {},
     "output_type": "display_data"
    }
   ],
   "source": [
    "plt.figure(figsize=(8, 6))\n",
    "plt.subplots_adjust(left=.2, right=0.95, bottom=0.15, top=0.95)\n",
    "plt.imshow(scores__mean_absulute_error_iq, interpolation='nearest', cmap=plt.cm.hot_r)\n",
    "plt.ylabel('n_estimators')\n",
    "plt.xlabel('max_depth')\n",
    "plt.colorbar()\n",
    "plt.yticks(np.arange(len(c_parameter_Iquitos)), c_parameter_Iquitos, rotation=45)\n",
    "plt.xticks(np.arange(len(epsilon_Iquitos)), epsilon_Iquitos)\n",
    "plt.title('Validation accuracy for Iquitos')\n",
    "plt.show()"
   ]
  },
  {
   "cell_type": "code",
   "execution_count": 15,
   "metadata": {
    "collapsed": false
   },
   "outputs": [],
   "source": [
    "regressor_sj = SVR(C=param1_sj,\n",
    "                    epsilon = param2_sj)\n",
    "\n",
    "regressor_iq = SVR(C=param1_iq ,\n",
    "                    epsilon=param2_iq)"
   ]
  },
  {
   "cell_type": "code",
   "execution_count": 16,
   "metadata": {
    "collapsed": false
   },
   "outputs": [
    {
     "data": {
      "text/plain": [
       "SVR(C=0.1, cache_size=200, coef0=0.0, degree=3, epsilon=5.0, gamma='auto',\n",
       "  kernel='rbf', max_iter=-1, shrinking=True, tol=0.001, verbose=False)"
      ]
     },
     "execution_count": 16,
     "metadata": {},
     "output_type": "execute_result"
    }
   ],
   "source": [
    "regressor_sj.fit(X_sj_train,y_sj_train)\n",
    "regressor_iq.fit(X_iq_train,y_iq_train)"
   ]
  },
  {
   "cell_type": "code",
   "execution_count": 17,
   "metadata": {
    "collapsed": false
   },
   "outputs": [],
   "source": [
    "predictions_sj = regressor_sj.predict(X_sj_test)\n",
    "predictions_iq = regressor_iq.predict(X_iq_test)"
   ]
  },
  {
   "cell_type": "code",
   "execution_count": 18,
   "metadata": {
    "collapsed": false
   },
   "outputs": [
    {
     "name": "stdout",
     "output_type": "stream",
     "text": [
      "For San Juan\n",
      " \n",
      "mean_squared_error: 710.226957790258\n",
      "mean_absolute_error: 17.83834964412812\n",
      "\n",
      "For Iquitos\n",
      " \n",
      "mean_squared_error: 164.4271124246525\n",
      "mean_absolute_error: 7.529502287399836\n"
     ]
    },
    {
     "data": {
      "text/plain": [
       "<matplotlib.legend.Legend at 0x7fdb4ca4ae80>"
      ]
     },
     "execution_count": 18,
     "metadata": {},
     "output_type": "execute_result"
    },
    {
     "data": {
      "image/png": "[encoded data removed]",
      "text/plain": [
       "<matplotlib.figure.Figure at 0x7fdb4cc4e438>"
      ]
     },
     "metadata": {},
     "output_type": "display_data"
    },
    {
     "data": {
      "image/png": "[encoded data removed]",
      "text/plain": [
       "<matplotlib.figure.Figure at 0x7fdb4ca2be10>"
      ]
     },
     "metadata": {},
     "output_type": "display_data"
    }
   ],
   "source": [
    "from sklearn.metrics import mean_squared_error\n",
    "\n",
    "print(\"For San Juan\\n \")\n",
    "print(\"mean_squared_error: {0}\".format(mean_squared_error(y_sj_test, predictions_sj)))\n",
    "print(\"mean_absolute_error: {0}\".format(mean_absolute_error(y_sj_test, predictions_sj)))\n",
    "print(\"\\nFor Iquitos\\n \")\n",
    "print(\"mean_squared_error: {0}\".format(mean_squared_error(y_iq_test, predictions_iq)))\n",
    "print(\"mean_absolute_error: {0}\".format(mean_absolute_error(y_iq_test, predictions_iq)))\n",
    "\n",
    "df1 = pd.DataFrame({\"predicted\":predictions_sj,\"actual\":y_sj_test})\n",
    "\n",
    "df1.plot()\n",
    "plt.title('San Juan: predicted vs actual')\n",
    "plt.xlabel('Time')\n",
    "\n",
    "df2 = pd.DataFrame({\"predicted\":predictions_iq,\"actual\":y_iq_test})\n",
    "\n",
    "df2.plot()\n",
    "plt.title('Iquitos: predicted vs actual')\n",
    "plt.xlabel('Time')\n",
    "\n",
    "plt.legend()"
   ]
  },
  {
   "cell_type": "code",
   "execution_count": 19,
   "metadata": {
    "collapsed": false
   },
   "outputs": [
    {
     "data": {
      "text/plain": [
       "SVR(C=0.1, cache_size=200, coef0=0.0, degree=3, epsilon=5.0, gamma='auto',\n",
       "  kernel='rbf', max_iter=-1, shrinking=True, tol=0.001, verbose=False)"
      ]
     },
     "execution_count": 19,
     "metadata": {},
     "output_type": "execute_result"
    }
   ],
   "source": [
    "regressor_sj.fit(sj_features,sj_targets)\n",
    "regressor_iq.fit(iq_features,iq_targets)"
   ]
  },
  {
   "cell_type": "code",
   "execution_count": 20,
   "metadata": {
    "collapsed": false
   },
   "outputs": [
    {
     "name": "stderr",
     "output_type": "stream",
     "text": [
      "/home/louis/anaconda3/lib/python3.6/site-packages/ipykernel/__main__.py:5: SettingWithCopyWarning: \n",
      "A value is trying to be set on a copy of a slice from a DataFrame.\n",
      "Try using .loc[row_indexer,col_indexer] = value instead\n",
      "\n",
      "See the caveats in the documentation: http://pandas.pydata.org/pandas-docs/stable/indexing.html#indexing-view-versus-copy\n",
      "/home/louis/anaconda3/lib/python3.6/site-packages/pandas/core/frame.py:2852: SettingWithCopyWarning: \n",
      "A value is trying to be set on a copy of a slice from a DataFrame\n",
      "\n",
      "See the caveats in the documentation: http://pandas.pydata.org/pandas-docs/stable/indexing.html#indexing-view-versus-copy\n",
      "  downcast=downcast, **kwargs)\n"
     ]
    }
   ],
   "source": [
    "sj_test, iq_test = preprocess_data('dengue_features_test.csv')\n",
    "\n",
    "\n",
    "\n",
    "sj_predictions = regressor_sj.predict(sj_test).astype(int)\n",
    "iq_predictions = regressor_iq.predict(iq_test).astype(int)\n",
    "\n",
    "submission = pd.read_csv(\"submission_format.csv\",\n",
    "                         index_col=[0, 1, 2])\n",
    "\n",
    "submission.total_cases = np.concatenate((sj_predictions, iq_predictions),axis=0)\n",
    "submission.to_csv(\"SVR_pure.csv\")"
   ]
  },
  {
   "cell_type": "code",
   "execution_count": 21,
   "metadata": {
    "collapsed": false
   },
   "outputs": [
    {
     "data": {
      "text/plain": [
       "(260, 320)"
      ]
     },
     "execution_count": 21,
     "metadata": {},
     "output_type": "execute_result"
    }
   ],
   "source": [
    "sj_test.shape\n"
   ]
  },
  {
   "cell_type": "code",
   "execution_count": 22,
   "metadata": {
    "collapsed": false
   },
   "outputs": [
    {
     "data": {
      "text/plain": [
       "(156, 820)"
      ]
     },
     "execution_count": 22,
     "metadata": {},
     "output_type": "execute_result"
    }
   ],
   "source": [
    "iq_test.shape"
   ]
  },
  {
   "cell_type": "code",
   "execution_count": null,
   "metadata": {
    "collapsed": true
   },
   "outputs": [],
   "source": []
  }
 ],
 "metadata": {
  "kernelspec": {
   "display_name": "Python 3",
   "language": "python",
   "name": "python3"
  },
  "language_info": {
   "codemirror_mode": {
    "name": "ipython",
    "version": 3
   },
   "file_extension": ".py",
   "mimetype": "text/x-python",
   "name": "python",
   "nbconvert_exporter": "python",
   "pygments_lexer": "ipython3",
   "version": "3.6.0"
  }
 },
 "nbformat": 4,
 "nbformat_minor": 2
}
