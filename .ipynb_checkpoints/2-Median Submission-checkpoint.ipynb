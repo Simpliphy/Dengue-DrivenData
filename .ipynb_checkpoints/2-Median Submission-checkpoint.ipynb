{
 "cells": [
  {
   "cell_type": "code",
   "execution_count": 1,
   "metadata": {
    "collapsed": true
   },
   "outputs": [],
   "source": [
    "import pandas as pd\n",
    "import numpy as np\n",
    "import matplotlib.pyplot as plt\n",
    "import seaborn as sns\n",
    "from IPython.display import HTML\n",
    "\n",
    "%matplotlib inline"
   ]
  },
  {
   "cell_type": "code",
   "execution_count": 2,
   "metadata": {
    "collapsed": false
   },
   "outputs": [
    {
     "name": "stdout",
     "output_type": "stream",
     "text": [
      "\u001b[01;34m.\u001b[00m\r\n",
      "├── 1-Data-exploration.ipynb\r\n",
      "├── 2-Learning.ipynb\r\n",
      "├── 2-Learning-SanJuan-Copy1.ipynb\r\n",
      "├── 2-Learning-SanJuan.ipynb\r\n",
      "├── 2-Median Submission.ipynb\r\n",
      "├── data_processing.py\r\n",
      "├── dengue_features_test.csv\r\n",
      "├── dengue_features_train.csv\r\n",
      "├── dengue_labels_train.csv\r\n",
      "├── \u001b[01;35mIquitos-plaza.jpg\u001b[00m\r\n",
      "├── optimizationOfModels.py\r\n",
      "├── \u001b[01;34m__pycache__\u001b[00m\r\n",
      "│   ├── data_processing.cpython-36.pyc\r\n",
      "│   └── optimizationOfModels.cpython-36.pyc\r\n",
      "├── README.md\r\n",
      "├── SanJuan-ElasticNet_Iquitos-RandomForest.csv\r\n",
      "├── San_Juan-Puerto_Rico.JPG\r\n",
      "├── SanJuan-RandomForest_Iquitos-RandomForest.csv\r\n",
      "└── submission_format.csv\r\n",
      "\r\n",
      "1 directory, 18 files\r\n"
     ]
    }
   ],
   "source": [
    "!tree"
   ]
  },
  {
   "cell_type": "markdown",
   "metadata": {},
   "source": [
    "# 1. Data import and processing "
   ]
  },
  {
   "cell_type": "code",
   "execution_count": 3,
   "metadata": {
    "collapsed": false
   },
   "outputs": [
    {
     "name": "stderr",
     "output_type": "stream",
     "text": [
      "/home/louis/Documents/Doctorat/OnlineDatasets/dengue-drivendata/data_processing.py:12: SettingWithCopyWarning: \n",
      "A value is trying to be set on a copy of a slice from a DataFrame.\n",
      "Try using .loc[row_indexer,col_indexer] = value instead\n",
      "\n",
      "See the caveats in the documentation: http://pandas.pydata.org/pandas-docs/stable/indexing.html#indexing-view-versus-copy\n",
      "  dataframe[column + \"_time - \" + str(lag)] = dataframe[column].shift(lag)  # copy the previous value\n",
      "/home/louis/anaconda3/lib/python3.6/site-packages/pandas/core/frame.py:2852: SettingWithCopyWarning: \n",
      "A value is trying to be set on a copy of a slice from a DataFrame\n",
      "\n",
      "See the caveats in the documentation: http://pandas.pydata.org/pandas-docs/stable/indexing.html#indexing-view-versus-copy\n",
      "  downcast=downcast, **kwargs)\n"
     ]
    }
   ],
   "source": [
    "from data_processing import preprocess_data,split_time_series\n",
    "\n",
    "lag_step_for_SanJuan = 15\n",
    "lag_step_for_Iquitos = 20\n",
    "\n",
    "sj_train, iq_train = preprocess_data('dengue_features_train.csv',\n",
    "                                    labels_path=\"dengue_labels_train.csv\",\n",
    "                                    lag_step_for_SanJuan = lag_step_for_SanJuan,\n",
    "                                    lag_step_for_Iquitos = lag_step_for_Iquitos)"
   ]
  },
  {
   "cell_type": "markdown",
   "metadata": {},
   "source": [
    "# 2. Training "
   ]
  },
  {
   "cell_type": "code",
   "execution_count": 4,
   "metadata": {
    "collapsed": false
   },
   "outputs": [],
   "source": [
    "sj_features  = sj_train.drop('total_cases', axis =1)\n",
    "sj_targets = sj_train['total_cases']\n",
    "\n",
    "iq_features  = iq_train.drop('total_cases', axis =1)\n",
    "iq_targets = iq_train['total_cases']"
   ]
  },
  {
   "cell_type": "markdown",
   "metadata": {},
   "source": [
    "# 3. Submission"
   ]
  },
  {
   "cell_type": "code",
   "execution_count": 5,
   "metadata": {
    "collapsed": false
   },
   "outputs": [],
   "source": [
    "#regressor_sj.fit(sj_features,sj_targets)"
   ]
  },
  {
   "cell_type": "code",
   "execution_count": 6,
   "metadata": {
    "collapsed": false
   },
   "outputs": [],
   "source": [
    "#regressor_iq.fit(iq_features,iq_targets)"
   ]
  },
  {
   "cell_type": "code",
   "execution_count": 8,
   "metadata": {
    "collapsed": false
   },
   "outputs": [
    {
     "name": "stderr",
     "output_type": "stream",
     "text": [
      "/home/louis/Documents/Doctorat/OnlineDatasets/dengue-drivendata/data_processing.py:12: SettingWithCopyWarning: \n",
      "A value is trying to be set on a copy of a slice from a DataFrame.\n",
      "Try using .loc[row_indexer,col_indexer] = value instead\n",
      "\n",
      "See the caveats in the documentation: http://pandas.pydata.org/pandas-docs/stable/indexing.html#indexing-view-versus-copy\n",
      "  dataframe[column + \"_time - \" + str(lag)] = dataframe[column].shift(lag)  # copy the previous value\n",
      "/home/louis/anaconda3/lib/python3.6/site-packages/pandas/core/frame.py:2852: SettingWithCopyWarning: \n",
      "A value is trying to be set on a copy of a slice from a DataFrame\n",
      "\n",
      "See the caveats in the documentation: http://pandas.pydata.org/pandas-docs/stable/indexing.html#indexing-view-versus-copy\n",
      "  downcast=downcast, **kwargs)\n"
     ]
    }
   ],
   "source": [
    "sj_test, iq_test = preprocess_data('dengue_features_test.csv',\n",
    "                                   lag_step_for_SanJuan = lag_step_for_SanJuan,\n",
    "                                   lag_step_for_Iquitos = lag_step_for_Iquitos)\n",
    "\n",
    "\n",
    "sj_predictions = np.repeat(sj_targets.median(), sj_test.shape[0]).astype(int)\n",
    "iq_predictions = np.repeat(iq_targets.median(), iq_test.shape[0]).astype(int)\n",
    "\n",
    "submission = pd.read_csv(\"submission_format.csv\",\n",
    "                         index_col=[0, 1, 2])\n",
    "\n",
    "submission.total_cases = np.concatenate((sj_predictions, iq_predictions),axis=0)\n",
    "submission.to_csv(\"median_as_prediction.csv\")"
   ]
  },
  {
   "cell_type": "code",
   "execution_count": null,
   "metadata": {
    "collapsed": false
   },
   "outputs": [],
   "source": [
    "X_sj_train.shape"
   ]
  },
  {
   "cell_type": "code",
   "execution_count": null,
   "metadata": {
    "collapsed": true
   },
   "outputs": [],
   "source": []
  }
 ],
 "metadata": {
  "kernelspec": {
   "display_name": "Python 3",
   "language": "python",
   "name": "python3"
  },
  "language_info": {
   "codemirror_mode": {
    "name": "ipython",
    "version": 3
   },
   "file_extension": ".py",
   "mimetype": "text/x-python",
   "name": "python",
   "nbconvert_exporter": "python",
   "pygments_lexer": "ipython3",
   "version": "3.6.0"
  }
 },
 "nbformat": 4,
 "nbformat_minor": 2
}
