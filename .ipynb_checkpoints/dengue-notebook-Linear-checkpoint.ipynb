{
 "cells": [
  {
   "cell_type": "code",
   "execution_count": 1,
   "metadata": {
    "collapsed": true
   },
   "outputs": [],
   "source": [
    "import pandas as pd\n",
    "import numpy as np\n",
    "import matplotlib.pyplot as plt\n",
    "import seaborn as sns\n",
    "from IPython.display import HTML\n",
    "\n",
    "%matplotlib inline"
   ]
  },
  {
   "cell_type": "code",
   "execution_count": 2,
   "metadata": {
    "collapsed": false
   },
   "outputs": [
    {
     "name": "stdout",
     "output_type": "stream",
     "text": [
      "\u001b[01;34m.\u001b[00m\r\n",
      "├── 1-Data-exploration.ipynb\r\n",
      "├── benchmark_arima.csv\r\n",
      "├── benchmark.csv\r\n",
      "├── \u001b[01;34mbenchmarks-master\u001b[00m\r\n",
      "│   ├── bees-benchmark.ipynb\r\n",
      "│   ├── dengue-benchmark-statsmodels.ipynb\r\n",
      "│   ├── fogwater-benchmark-model.ipynb\r\n",
      "│   ├── LICENSE\r\n",
      "│   └── README.md\r\n",
      "├── \u001b[01;31mbenchmarks-master.zip\u001b[00m\r\n",
      "├── Dengue-benchmark-ARIMA.ipynb\r\n",
      "├── dengue_features_test.csv\r\n",
      "├── dengue_features_train.csv\r\n",
      "├── dengue_labels_train.csv\r\n",
      "├── dengue-notebook.ipynb\r\n",
      "├── dengue-notebook-Linear.ipynb\r\n",
      "├── dengue-notebook-RandomForest.ipynb\r\n",
      "├── dengue-notebook-svr.ipynb\r\n",
      "├── \u001b[01;35mIquitos-plaza.jpg\u001b[00m\r\n",
      "├── random_forest_regression_all_features.csv\r\n",
      "├── random_forest_regression.csv\r\n",
      "├── random_forest_regression_test_more_lags_Iquitos.csv\r\n",
      "├── README.md\r\n",
      "├── results.csv\r\n",
      "├── results_lasso.csv\r\n",
      "├── results_RandomForestRegression.csv\r\n",
      "├── results_Ridge.csv\r\n",
      "├── San_Juan-Puerto_Rico.JPG\r\n",
      "├── submission_format.csv\r\n",
      "└── SVR_pure.csv\r\n",
      "\r\n",
      "1 directory, 29 files\r\n"
     ]
    }
   ],
   "source": [
    "!tree"
   ]
  },
  {
   "cell_type": "markdown",
   "metadata": {},
   "source": [
    "# Data import"
   ]
  },
  {
   "cell_type": "markdown",
   "metadata": {},
   "source": [
    "## Preprocessing of the data"
   ]
  },
  {
   "cell_type": "code",
   "execution_count": 3,
   "metadata": {
    "collapsed": false
   },
   "outputs": [],
   "source": [
    "# load the provided data\n",
    "train_features = pd.read_csv('dengue_features_train.csv')\n",
    "train_labels = pd.read_csv('dengue_labels_train.csv')"
   ]
  },
  {
   "cell_type": "code",
   "execution_count": 4,
   "metadata": {
    "collapsed": false
   },
   "outputs": [
    {
     "data": {
      "text/plain": [
       "Index(['city', 'year', 'weekofyear', 'week_start_date', 'ndvi_ne', 'ndvi_nw',\n",
       "       'ndvi_se', 'ndvi_sw', 'precipitation_amt_mm', 'reanalysis_air_temp_k',\n",
       "       'reanalysis_avg_temp_k', 'reanalysis_dew_point_temp_k',\n",
       "       'reanalysis_max_air_temp_k', 'reanalysis_min_air_temp_k',\n",
       "       'reanalysis_precip_amt_kg_per_m2',\n",
       "       'reanalysis_relative_humidity_percent', 'reanalysis_sat_precip_amt_mm',\n",
       "       'reanalysis_specific_humidity_g_per_kg', 'reanalysis_tdtr_k',\n",
       "       'station_avg_temp_c', 'station_diur_temp_rng_c', 'station_max_temp_c',\n",
       "       'station_min_temp_c', 'station_precip_mm'],\n",
       "      dtype='object')"
      ]
     },
     "execution_count": 4,
     "metadata": {},
     "output_type": "execute_result"
    }
   ],
   "source": [
    "\n",
    "train_features.columns"
   ]
  },
  {
   "cell_type": "code",
   "execution_count": null,
   "metadata": {
    "collapsed": true
   },
   "outputs": [],
   "source": []
  },
  {
   "cell_type": "code",
   "execution_count": 5,
   "metadata": {
    "collapsed": true
   },
   "outputs": [],
   "source": [
    "def add_lag(dataframe, columns,number_of_lag):\n",
    "    \n",
    "    for column in columns: # for each feature (column)\n",
    "        for lag in range(number_of_lag): # for each time step (lag)\n",
    "            dataframe[column + \"_time - \"+ str(lag)] = dataframe[column].shift(lag) # copy the previous value\n",
    "            \n",
    "    #remove the first number_of_lag rows\n",
    "    dataframe.fillna(method='backfill', inplace=True)\n",
    "    \n",
    "    return dataframe\n",
    "\n",
    "def preprocess_data(data_path, labels_path=None):\n",
    "    \n",
    "    lag_step_for_SanJuan = 15\n",
    "    lag_step_for_Iquitos = 40\n",
    "    \n",
    "    # load data and set index to city, year, weekofyear\n",
    "    df = pd.read_csv(data_path, index_col=[0, 1, 2])\n",
    "        \n",
    "    features = ['ndvi_ne', 'ndvi_nw',\n",
    "       'ndvi_se', 'ndvi_sw', 'precipitation_amt_mm', 'reanalysis_air_temp_k',\n",
    "       'reanalysis_avg_temp_k', 'reanalysis_dew_point_temp_k',\n",
    "       'reanalysis_max_air_temp_k', 'reanalysis_min_air_temp_k',\n",
    "       'reanalysis_precip_amt_kg_per_m2',\n",
    "       'reanalysis_relative_humidity_percent', 'reanalysis_sat_precip_amt_mm',\n",
    "       'reanalysis_specific_humidity_g_per_kg', 'reanalysis_tdtr_k',\n",
    "       'station_avg_temp_c', 'station_diur_temp_rng_c', 'station_max_temp_c',\n",
    "       'station_min_temp_c', 'station_precip_mm']\n",
    "    \n",
    "    df = df[features]\n",
    "    \n",
    "    # fill missing values\n",
    "    df.fillna(method='ffill', inplace=True)\n",
    "\n",
    "    # add labels to dataframe\n",
    "    if labels_path:\n",
    "        labels = pd.read_csv(labels_path, index_col=[0, 1, 2])\n",
    "        df = df.join(labels)\n",
    "    \n",
    "    # separate san juan and iquitos\n",
    "    sj = df.loc['sj']\n",
    "    iq = df.loc['iq']\n",
    "    \n",
    "    #add lag\n",
    "    sj = add_lag(sj, features, lag_step_for_SanJuan)\n",
    "    iq = add_lag(iq, features, lag_step_for_Iquitos)\n",
    "    \n",
    "    # fill navalues\n",
    "    sj.fillna(method='backfill', inplace=True)\n",
    "    iq.fillna(method='backfill', inplace=True)\n",
    "    \n",
    "    return sj, iq"
   ]
  },
  {
   "cell_type": "code",
   "execution_count": null,
   "metadata": {
    "collapsed": false
   },
   "outputs": [],
   "source": []
  },
  {
   "cell_type": "code",
   "execution_count": 6,
   "metadata": {
    "collapsed": false
   },
   "outputs": [
    {
     "name": "stderr",
     "output_type": "stream",
     "text": [
      "/home/louis/anaconda3/lib/python3.6/site-packages/ipykernel/__main__.py:5: SettingWithCopyWarning: \n",
      "A value is trying to be set on a copy of a slice from a DataFrame.\n",
      "Try using .loc[row_indexer,col_indexer] = value instead\n",
      "\n",
      "See the caveats in the documentation: http://pandas.pydata.org/pandas-docs/stable/indexing.html#indexing-view-versus-copy\n",
      "/home/louis/anaconda3/lib/python3.6/site-packages/pandas/core/frame.py:2852: SettingWithCopyWarning: \n",
      "A value is trying to be set on a copy of a slice from a DataFrame\n",
      "\n",
      "See the caveats in the documentation: http://pandas.pydata.org/pandas-docs/stable/indexing.html#indexing-view-versus-copy\n",
      "  downcast=downcast, **kwargs)\n"
     ]
    }
   ],
   "source": [
    "sj_train, iq_train = preprocess_data('dengue_features_train.csv',\n",
    "                                    labels_path=\"dengue_labels_train.csv\")\n",
    "\n"
   ]
  },
  {
   "cell_type": "markdown",
   "metadata": {},
   "source": [
    "## Training "
   ]
  },
  {
   "cell_type": "code",
   "execution_count": 7,
   "metadata": {
    "collapsed": false
   },
   "outputs": [],
   "source": [
    "from sklearn.svm import SVR\n",
    "from math import floor"
   ]
  },
  {
   "cell_type": "code",
   "execution_count": 8,
   "metadata": {
    "collapsed": true
   },
   "outputs": [],
   "source": [
    "#from sklearn.model_selection import TimeSeriesSplit\n",
    "#>>> X = np.array([[1, 2], [3, 4], [1, 2], [3, 4]])\n",
    "#>>> y = np.array([1, 2, 3, 4])\n",
    "#>>> tscv = TimeSeriesSplit(n_splits=3)\n",
    "#>>> print(tscv)  \n",
    "#TimeSeriesSplit(max_train_size=None, n_splits=3)\n",
    "#>>> for train_index, test_index in tscv.split(X):\n",
    "#...    print(\"TRAIN:\", train_index, \"TEST:\", test_index)\n",
    "#...    X_train, X_test = X[train_index], X[test_index]\n",
    "#...    y_train, y_test = y[train_index], y[test_index]\n",
    "#TRAIN: [0] TEST: [1]\n",
    "#TRAIN: [0 1] TEST: [2]\n",
    "#TRAIN: [0 1 2] TEST: [3]"
   ]
  },
  {
   "cell_type": "code",
   "execution_count": 9,
   "metadata": {
    "collapsed": false
   },
   "outputs": [],
   "source": [
    "sj_features  = sj_train.drop('total_cases', axis =1)\n",
    "sj_targets = sj_train['total_cases']\n",
    "\n",
    "iq_features  = iq_train.drop('total_cases', axis =1)\n",
    "iq_targets = iq_train['total_cases']\n",
    "\n",
    "def split_time_series(X, y, test_set_ratio):\n",
    "    \n",
    "\n",
    "    number_of_examples = X.shape[0]\n",
    "    last_index_in_train_set = floor( (1-test_set_ratio)*number_of_examples )\n",
    "    \n",
    "    X_train = X[:last_index_in_train_set]\n",
    "    X_test = X[last_index_in_train_set:]\n",
    "    \n",
    "    y_train = y[:last_index_in_train_set]\n",
    "    y_test = y[last_index_in_train_set:]\n",
    "    \n",
    "    return X_train, X_test, y_train, y_test\n",
    "\n",
    "\n",
    "test_set_ratio = 0.3 \n",
    "\n",
    "X_sj_train, X_sj_test, y_sj_train, y_sj_test = split_time_series(sj_features, sj_targets, test_set_ratio)\n",
    "X_iq_train, X_iq_test, y_iq_train, y_iq_test = split_time_series(iq_features, iq_targets, test_set_ratio)\n"
   ]
  },
  {
   "cell_type": "code",
   "execution_count": 10,
   "metadata": {
    "collapsed": false
   },
   "outputs": [],
   "source": [
    "from sklearn.metrics import mean_absolute_error\n",
    "from sklearn.linear_model import Ridge,Lasso,ElasticNet\n",
    "\n",
    "\n",
    "\n",
    "def find_best_params(X_train,y_train,X_val,y_val,param1_list,param2_list):\n",
    "    \n",
    "    print(\"mean_absolute_error [param1,param2]: mae\")\n",
    "    scores_mean_absolute_error = np.zeros((len(param1_list), len(param2_list) ))\n",
    "    best_score_mean_absolute_error = float(\"inf\")\n",
    "    best_parameters = [0,0]\n",
    "    \n",
    "    for i  in range(len(param1_list)):\n",
    "        for j in range(len(param2_list)):\n",
    "\n",
    "            param1 = param1_list[i]\n",
    "            param2 = param2_list[j]\n",
    "\n",
    "            from sklearn import linear_model\n",
    "            \n",
    "            regressor = linear_model.ElasticNet(alpha=param1,l1_ratio=param2)\n",
    "            regressor.fit(X_train,y_train)\n",
    "            predictions = regressor.predict(X_val)\n",
    "\n",
    "            mean_absolute_error_ = mean_absolute_error(y_val, predictions)\n",
    "            print(\"mean_absolute_error [{0},{1}]: {2}\".format(param1,param2,mean_absolute_error_))\n",
    "            scores_mean_absolute_error[i,j] = mean_absolute_error_\n",
    "\n",
    "            if mean_absolute_error_ < best_score_mean_absolute_error:\n",
    "               best_score_mean_absolute_error = mean_absolute_error_\n",
    "               best_parameters = [param1, param2] \n",
    "    \n",
    "        \n",
    "\n",
    "    print(\"\\n-------------------------\")\n",
    "    print(\"best_mean_absolute_error: {0}\".format(best_score_mean_absolute_error))         \n",
    "    print(\"parameter 1: {0}\".format(best_parameters[0]))         \n",
    "    print(\"parameter 2: {0}\".format(best_parameters[1])) \n",
    "    print(\"-------------------------\\n\")\n",
    "    \n",
    "    best_param1 = best_parameters[0]\n",
    "    best_param2 = best_parameters[1]\n",
    "    \n",
    "    return best_param1, best_param2,scores_mean_absolute_error"
   ]
  },
  {
   "cell_type": "code",
   "execution_count": 11,
   "metadata": {
    "collapsed": false
   },
   "outputs": [
    {
     "name": "stdout",
     "output_type": "stream",
     "text": [
      "mean_absolute_error [param1,param2]: mae\n"
     ]
    },
    {
     "name": "stderr",
     "output_type": "stream",
     "text": [
      "/home/louis/anaconda3/lib/python3.6/site-packages/sklearn/linear_model/coordinate_descent.py:484: ConvergenceWarning: Objective did not converge. You might want to increase the number of iterations. Fitting data with very small alpha may cause precision problems.\n",
      "  ConvergenceWarning)\n"
     ]
    },
    {
     "name": "stdout",
     "output_type": "stream",
     "text": [
      "mean_absolute_error [0.1,0.1]: 36.00908554678715\n",
      "mean_absolute_error [0.1,0.2]: 36.259072920770144\n",
      "mean_absolute_error [0.1,0.3]: 36.51422651099868\n",
      "mean_absolute_error [0.1,0.4]: 36.81612053297264\n",
      "mean_absolute_error [0.1,0.5]: 37.141539184755494\n",
      "mean_absolute_error [0.1,0.6]: 37.48560805573752\n",
      "mean_absolute_error [0.1,0.7]: 37.91621984707919\n",
      "mean_absolute_error [0.1,0.8]: 38.40742383891629\n",
      "mean_absolute_error [0.1,0.9]: 39.07345129943235\n",
      "mean_absolute_error [1.0,0.1]: 28.307626529144645\n",
      "mean_absolute_error [1.0,0.2]: 28.22162055807934\n",
      "mean_absolute_error [1.0,0.3]: 28.17214270461099\n",
      "mean_absolute_error [1.0,0.4]: 28.1404368483896\n",
      "mean_absolute_error [1.0,0.5]: 28.117892181466257\n",
      "mean_absolute_error [1.0,0.6]: 28.127280341339002\n",
      "mean_absolute_error [1.0,0.7]: 28.165642023665622\n",
      "mean_absolute_error [1.0,0.8]: 28.29015158031121\n",
      "mean_absolute_error [1.0,0.9]: 28.538804240204424\n",
      "mean_absolute_error [5.0,0.1]: 25.072565087477027\n",
      "mean_absolute_error [5.0,0.2]: 24.50000674949987\n",
      "mean_absolute_error [5.0,0.3]: 24.003745172097624\n",
      "mean_absolute_error [5.0,0.4]: 23.444166049663902\n",
      "mean_absolute_error [5.0,0.5]: 22.935103169361817\n",
      "mean_absolute_error [5.0,0.6]: 22.515603931448084\n",
      "mean_absolute_error [5.0,0.7]: 22.200808918650235\n",
      "mean_absolute_error [5.0,0.8]: 21.990508295288254\n",
      "mean_absolute_error [5.0,0.9]: 21.981636722873006\n",
      "mean_absolute_error [10,0.1]: 23.44114267626602\n",
      "mean_absolute_error [10,0.2]: 22.771202890543115\n",
      "mean_absolute_error [10,0.3]: 22.25279031488804\n",
      "mean_absolute_error [10,0.4]: 21.992020275971655\n",
      "mean_absolute_error [10,0.5]: 21.814139803560597\n",
      "mean_absolute_error [10,0.6]: 21.684990770955125\n",
      "mean_absolute_error [10,0.7]: 21.597883351009344\n",
      "mean_absolute_error [10,0.8]: 21.819796972819304\n",
      "mean_absolute_error [10,0.9]: 22.36092391220878\n",
      "mean_absolute_error [20,0.1]: 22.327997097082985\n",
      "mean_absolute_error [20,0.2]: 22.249101151740657\n",
      "mean_absolute_error [20,0.3]: 22.377345906700867\n",
      "mean_absolute_error [20,0.4]: 22.61016364863566\n",
      "mean_absolute_error [20,0.5]: 22.832992542037466\n",
      "mean_absolute_error [20,0.6]: 23.243502448423545\n",
      "mean_absolute_error [20,0.7]: 23.89964942442646\n",
      "mean_absolute_error [20,0.8]: 24.593175938583027\n",
      "mean_absolute_error [20,0.9]: 25.033845570187072\n",
      "mean_absolute_error [50,0.1]: 22.911359627178722\n",
      "mean_absolute_error [50,0.2]: 24.074238643862756\n",
      "mean_absolute_error [50,0.3]: 25.0080306620684\n",
      "mean_absolute_error [50,0.4]: 26.014860134051883\n",
      "mean_absolute_error [50,0.5]: 26.361885040693885\n",
      "mean_absolute_error [50,0.6]: 26.43181752815739\n",
      "mean_absolute_error [50,0.7]: 26.493962209427686\n",
      "mean_absolute_error [50,0.8]: 26.547817164869432\n",
      "mean_absolute_error [50,0.9]: 26.5886055833764\n",
      "mean_absolute_error [100,0.1]: 24.672490971283597\n",
      "mean_absolute_error [100,0.2]: 26.190807732876785\n",
      "mean_absolute_error [100,0.3]: 26.47730580903548\n",
      "mean_absolute_error [100,0.4]: 26.586467105727532\n",
      "mean_absolute_error [100,0.5]: 26.666164350317285\n",
      "mean_absolute_error [100,0.6]: 26.74161713901932\n",
      "mean_absolute_error [100,0.7]: 26.821857782776757\n",
      "mean_absolute_error [100,0.8]: 26.905140576367298\n",
      "mean_absolute_error [100,0.9]: 26.99638396720057\n",
      "mean_absolute_error [200,0.1]: 26.36999544086707\n",
      "mean_absolute_error [200,0.2]: 26.661225529092782\n",
      "mean_absolute_error [200,0.3]: 26.810698170156073\n",
      "mean_absolute_error [200,0.4]: 26.964998239484274\n",
      "mean_absolute_error [200,0.5]: 27.134450117766008\n",
      "mean_absolute_error [200,0.6]: 27.29822809235077\n",
      "mean_absolute_error [200,0.7]: 27.470818859201913\n",
      "mean_absolute_error [200,0.8]: 27.65943383576947\n",
      "mean_absolute_error [200,0.9]: 27.851564055218216\n",
      "mean_absolute_error [500,0.1]: 26.91915319746861\n",
      "mean_absolute_error [500,0.2]: 27.265665125431386\n",
      "mean_absolute_error [500,0.3]: 27.641587780386953\n",
      "mean_absolute_error [500,0.4]: 28.07756205541505\n",
      "mean_absolute_error [500,0.5]: 28.386251108624545\n",
      "mean_absolute_error [500,0.6]: 28.453565510309417\n",
      "mean_absolute_error [500,0.7]: 28.453565510309417\n",
      "mean_absolute_error [500,0.8]: 28.453565510309417\n",
      "mean_absolute_error [500,0.9]: 28.453565510309417\n",
      "mean_absolute_error [1000,0.1]: 27.438701064424514\n",
      "mean_absolute_error [1000,0.2]: 28.126527801220387\n",
      "mean_absolute_error [1000,0.3]: 28.453565510309417\n",
      "mean_absolute_error [1000,0.4]: 28.453565510309417\n",
      "mean_absolute_error [1000,0.5]: 28.453565510309417\n",
      "mean_absolute_error [1000,0.6]: 28.453565510309417\n",
      "mean_absolute_error [1000,0.7]: 28.453565510309417\n",
      "mean_absolute_error [1000,0.8]: 28.453565510309417\n",
      "mean_absolute_error [1000,0.9]: 28.453565510309417\n",
      "mean_absolute_error [10000.0,0.1]: 28.453565510309417\n",
      "mean_absolute_error [10000.0,0.2]: 28.453565510309417\n",
      "mean_absolute_error [10000.0,0.3]: 28.453565510309417\n",
      "mean_absolute_error [10000.0,0.4]: 28.453565510309417\n",
      "mean_absolute_error [10000.0,0.5]: 28.453565510309417\n",
      "mean_absolute_error [10000.0,0.6]: 28.453565510309417\n",
      "mean_absolute_error [10000.0,0.7]: 28.453565510309417\n",
      "mean_absolute_error [10000.0,0.8]: 28.453565510309417\n",
      "mean_absolute_error [10000.0,0.9]: 28.453565510309417\n",
      "mean_absolute_error [100000.0,0.1]: 28.453565510309417\n",
      "mean_absolute_error [100000.0,0.2]: 28.453565510309417\n",
      "mean_absolute_error [100000.0,0.3]: 28.453565510309417\n",
      "mean_absolute_error [100000.0,0.4]: 28.453565510309417\n",
      "mean_absolute_error [100000.0,0.5]: 28.453565510309417\n",
      "mean_absolute_error [100000.0,0.6]: 28.453565510309417\n",
      "mean_absolute_error [100000.0,0.7]: 28.453565510309417\n",
      "mean_absolute_error [100000.0,0.8]: 28.453565510309417\n",
      "mean_absolute_error [100000.0,0.9]: 28.453565510309417\n",
      "mean_absolute_error [1000000.0,0.1]: 28.453565510309417\n",
      "mean_absolute_error [1000000.0,0.2]: 28.453565510309417\n",
      "mean_absolute_error [1000000.0,0.3]: 28.453565510309417\n",
      "mean_absolute_error [1000000.0,0.4]: 28.453565510309417\n",
      "mean_absolute_error [1000000.0,0.5]: 28.453565510309417\n",
      "mean_absolute_error [1000000.0,0.6]: 28.453565510309417\n",
      "mean_absolute_error [1000000.0,0.7]: 28.453565510309417\n",
      "mean_absolute_error [1000000.0,0.8]: 28.453565510309417\n",
      "mean_absolute_error [1000000.0,0.9]: 28.453565510309417\n",
      "mean_absolute_error [10000000.0,0.1]: 28.453565510309417\n",
      "mean_absolute_error [10000000.0,0.2]: 28.453565510309417\n",
      "mean_absolute_error [10000000.0,0.3]: 28.453565510309417\n",
      "mean_absolute_error [10000000.0,0.4]: 28.453565510309417\n",
      "mean_absolute_error [10000000.0,0.5]: 28.453565510309417\n",
      "mean_absolute_error [10000000.0,0.6]: 28.453565510309417\n",
      "mean_absolute_error [10000000.0,0.7]: 28.453565510309417\n",
      "mean_absolute_error [10000000.0,0.8]: 28.453565510309417\n",
      "mean_absolute_error [10000000.0,0.9]: 28.453565510309417\n",
      "mean_absolute_error [100000000.0,0.1]: 28.453565510309417\n",
      "mean_absolute_error [100000000.0,0.2]: 28.453565510309417\n",
      "mean_absolute_error [100000000.0,0.3]: 28.453565510309417\n",
      "mean_absolute_error [100000000.0,0.4]: 28.453565510309417\n",
      "mean_absolute_error [100000000.0,0.5]: 28.453565510309417\n",
      "mean_absolute_error [100000000.0,0.6]: 28.453565510309417\n",
      "mean_absolute_error [100000000.0,0.7]: 28.453565510309417\n",
      "mean_absolute_error [100000000.0,0.8]: 28.453565510309417\n",
      "mean_absolute_error [100000000.0,0.9]: 28.453565510309417\n",
      "mean_absolute_error [1000000000.0,0.1]: 28.453565510309417\n",
      "mean_absolute_error [1000000000.0,0.2]: 28.453565510309417\n",
      "mean_absolute_error [1000000000.0,0.3]: 28.453565510309417\n",
      "mean_absolute_error [1000000000.0,0.4]: 28.453565510309417\n",
      "mean_absolute_error [1000000000.0,0.5]: 28.453565510309417\n",
      "mean_absolute_error [1000000000.0,0.6]: 28.453565510309417\n",
      "mean_absolute_error [1000000000.0,0.7]: 28.453565510309417\n",
      "mean_absolute_error [1000000000.0,0.8]: 28.453565510309417\n",
      "mean_absolute_error [1000000000.0,0.9]: 28.453565510309417\n",
      "mean_absolute_error [10000000000.0,0.1]: 28.453565510309417\n",
      "mean_absolute_error [10000000000.0,0.2]: 28.453565510309417\n",
      "mean_absolute_error [10000000000.0,0.3]: 28.453565510309417\n",
      "mean_absolute_error [10000000000.0,0.4]: 28.453565510309417\n",
      "mean_absolute_error [10000000000.0,0.5]: 28.453565510309417\n",
      "mean_absolute_error [10000000000.0,0.6]: 28.453565510309417\n",
      "mean_absolute_error [10000000000.0,0.7]: 28.453565510309417\n",
      "mean_absolute_error [10000000000.0,0.8]: 28.453565510309417\n",
      "mean_absolute_error [10000000000.0,0.9]: 28.453565510309417\n",
      "mean_absolute_error [100000000000.0,0.1]: 28.453565510309417\n",
      "mean_absolute_error [100000000000.0,0.2]: 28.453565510309417\n",
      "mean_absolute_error [100000000000.0,0.3]: 28.453565510309417\n",
      "mean_absolute_error [100000000000.0,0.4]: 28.453565510309417\n",
      "mean_absolute_error [100000000000.0,0.5]: 28.453565510309417\n",
      "mean_absolute_error [100000000000.0,0.6]: 28.453565510309417\n",
      "mean_absolute_error [100000000000.0,0.7]: 28.453565510309417\n",
      "mean_absolute_error [100000000000.0,0.8]: 28.453565510309417\n",
      "mean_absolute_error [100000000000.0,0.9]: 28.453565510309417\n",
      "mean_absolute_error [1000000000000.0,0.1]: 28.453565510309417\n",
      "mean_absolute_error [1000000000000.0,0.2]: 28.453565510309417\n",
      "mean_absolute_error [1000000000000.0,0.3]: 28.453565510309417\n",
      "mean_absolute_error [1000000000000.0,0.4]: 28.453565510309417\n",
      "mean_absolute_error [1000000000000.0,0.5]: 28.453565510309417\n",
      "mean_absolute_error [1000000000000.0,0.6]: 28.453565510309417\n",
      "mean_absolute_error [1000000000000.0,0.7]: 28.453565510309417\n",
      "mean_absolute_error [1000000000000.0,0.8]: 28.453565510309417\n",
      "mean_absolute_error [1000000000000.0,0.9]: 28.453565510309417\n",
      "\n",
      "-------------------------\n",
      "best_mean_absolute_error: 21.597883351009344\n",
      "parameter 1: 10\n",
      "parameter 2: 0.7\n",
      "-------------------------\n",
      "\n"
     ]
    }
   ],
   "source": [
    "parameters1_SanJuan = [0.1,1.0,5.0,10,20, 50,100,200,500,1000,1e4,1e5,1e6,1e7,1e8,1e9,1e10,1e11,1e12]\n",
    "parameters2_SanJuan = [0.1,0.2,0.3,0.4,0.5,0.6,0.7,0.8,0.9]\n",
    "\n",
    "param1_sj, param2_sj, scores__mean_absulute_error_sj = find_best_params(X_sj_train,\n",
    "                                                                                 y_sj_train,\n",
    "                                                                                 X_sj_test,\n",
    "                                                                                 y_sj_test,\n",
    "                                                                                 parameters1_SanJuan,\n",
    "                                                                                 parameters2_SanJuan)"
   ]
  },
  {
   "cell_type": "code",
   "execution_count": 12,
   "metadata": {
    "collapsed": false
   },
   "outputs": [
    {
     "data": {
      "image/png": "[encoded data removed]",
      "text/plain": [
       "<matplotlib.figure.Figure at 0x7f7cef15acc0>"
      ]
     },
     "metadata": {},
     "output_type": "display_data"
    }
   ],
   "source": [
    "plt.figure(figsize=(8, 6))\n",
    "plt.subplots_adjust(left=.2, right=0.95, bottom=0.15, top=0.95)\n",
    "plt.imshow(scores__mean_absulute_error_sj, interpolation='nearest', cmap=plt.cm.hot_r)\n",
    "plt.ylabel('alpha')\n",
    "plt.xlabel('--')\n",
    "plt.colorbar()\n",
    "plt.yticks(np.arange(len(parameters1_SanJuan)), parameters1_SanJuan, rotation=45)\n",
    "plt.xticks(np.arange(len(parameters2_SanJuan)), parameters2_SanJuan)\n",
    "plt.title('Validation accuracy for San Juan')\n",
    "plt.show()"
   ]
  },
  {
   "cell_type": "code",
   "execution_count": 13,
   "metadata": {
    "collapsed": false
   },
   "outputs": [
    {
     "name": "stdout",
     "output_type": "stream",
     "text": [
      "mean_absolute_error [param1,param2]: mae\n"
     ]
    },
    {
     "name": "stderr",
     "output_type": "stream",
     "text": [
      "/home/louis/anaconda3/lib/python3.6/site-packages/sklearn/linear_model/coordinate_descent.py:484: ConvergenceWarning: Objective did not converge. You might want to increase the number of iterations. Fitting data with very small alpha may cause precision problems.\n",
      "  ConvergenceWarning)\n"
     ]
    },
    {
     "name": "stdout",
     "output_type": "stream",
     "text": [
      "mean_absolute_error [0.1,0.1]: 13.227279737859416\n",
      "mean_absolute_error [0.1,0.2]: 13.053772832508269\n",
      "mean_absolute_error [0.1,0.3]: 12.905392288500684\n",
      "mean_absolute_error [0.1,0.4]: 12.777714899597386\n",
      "mean_absolute_error [0.1,0.5]: 12.640469890313085\n",
      "mean_absolute_error [0.1,0.6]: 12.532026811513292\n",
      "mean_absolute_error [0.1,0.7]: 12.429617483715852\n",
      "mean_absolute_error [0.1,0.8]: 12.29184108169451\n",
      "mean_absolute_error [0.1,0.9]: 12.214531324885996\n",
      "mean_absolute_error [1.0,0.1]: 10.948010345165471\n",
      "mean_absolute_error [1.0,0.2]: 10.548917581490233\n",
      "mean_absolute_error [1.0,0.3]: 10.238182006678118\n",
      "mean_absolute_error [1.0,0.4]: 10.116032662183075\n",
      "mean_absolute_error [1.0,0.5]: 10.114390128244729\n",
      "mean_absolute_error [1.0,0.6]: 10.098846819383883\n",
      "mean_absolute_error [1.0,0.7]: 10.090069280988965\n",
      "mean_absolute_error [1.0,0.8]: 10.042111701940676\n",
      "mean_absolute_error [1.0,0.9]: 9.961338982578745\n",
      "mean_absolute_error [5.0,0.1]: 10.160057206386737\n",
      "mean_absolute_error [5.0,0.2]: 9.927095036323578\n",
      "mean_absolute_error [5.0,0.3]: 9.646551046741452\n",
      "mean_absolute_error [5.0,0.4]: 9.393121315565324\n",
      "mean_absolute_error [5.0,0.5]: 9.171811951845728\n",
      "mean_absolute_error [5.0,0.6]: 8.994919827316908\n",
      "mean_absolute_error [5.0,0.7]: 8.85280378437064\n",
      "mean_absolute_error [5.0,0.8]: 8.739126168631364\n",
      "mean_absolute_error [5.0,0.9]: 8.632233166422207\n",
      "mean_absolute_error [10,0.1]: 9.852173031924034\n",
      "mean_absolute_error [10,0.2]: 9.340631544679185\n",
      "mean_absolute_error [10,0.3]: 8.960360706534017\n",
      "mean_absolute_error [10,0.4]: 8.720792682270917\n",
      "mean_absolute_error [10,0.5]: 8.518558337814685\n",
      "mean_absolute_error [10,0.6]: 8.352448002665598\n",
      "mean_absolute_error [10,0.7]: 8.254384352473187\n",
      "mean_absolute_error [10,0.8]: 8.182252031010721\n",
      "mean_absolute_error [10,0.9]: 8.136468578761257\n",
      "mean_absolute_error [20,0.1]: 9.249263952577776\n",
      "mean_absolute_error [20,0.2]: 8.689533321124614\n",
      "mean_absolute_error [20,0.3]: 8.340621202704746\n",
      "mean_absolute_error [20,0.4]: 8.17506307982237\n",
      "mean_absolute_error [20,0.5]: 8.101291401212551\n",
      "mean_absolute_error [20,0.6]: 8.030261019797777\n",
      "mean_absolute_error [20,0.7]: 8.008631120624258\n",
      "mean_absolute_error [20,0.8]: 7.983365705138906\n",
      "mean_absolute_error [20,0.9]: 7.968697281093668\n",
      "mean_absolute_error [50,0.1]: 8.443684336830273\n",
      "mean_absolute_error [50,0.2]: 8.088475770901047\n",
      "mean_absolute_error [50,0.3]: 7.989491057359051\n",
      "mean_absolute_error [50,0.4]: 7.943021493385261\n",
      "mean_absolute_error [50,0.5]: 7.878863830569087\n",
      "mean_absolute_error [50,0.6]: 7.8266643725488505\n",
      "mean_absolute_error [50,0.7]: 7.748189969578852\n",
      "mean_absolute_error [50,0.8]: 7.682297445776474\n",
      "mean_absolute_error [50,0.9]: 7.627614730748452\n",
      "mean_absolute_error [100,0.1]: 8.066480355837587\n",
      "mean_absolute_error [100,0.2]: 7.9343734401627914\n",
      "mean_absolute_error [100,0.3]: 7.822351278760723\n",
      "mean_absolute_error [100,0.4]: 7.679921696447559\n",
      "mean_absolute_error [100,0.5]: 7.598305514712021\n",
      "mean_absolute_error [100,0.6]: 7.619212812327847\n",
      "mean_absolute_error [100,0.7]: 7.649694365687758\n",
      "mean_absolute_error [100,0.8]: 7.661500623089268\n",
      "mean_absolute_error [100,0.9]: 7.668057207858785\n",
      "mean_absolute_error [200,0.1]: 7.918781019302135\n",
      "mean_absolute_error [200,0.2]: 7.6754131571537005\n",
      "mean_absolute_error [200,0.3]: 7.619689988177386\n",
      "mean_absolute_error [200,0.4]: 7.660763925205359\n",
      "mean_absolute_error [200,0.5]: 7.662223651559193\n",
      "mean_absolute_error [200,0.6]: 7.6557727465440735\n",
      "mean_absolute_error [200,0.7]: 7.65363482671175\n",
      "mean_absolute_error [200,0.8]: 7.65363482671175\n",
      "mean_absolute_error [200,0.9]: 7.65363482671175\n",
      "mean_absolute_error [500,0.1]: 7.60295869501245\n",
      "mean_absolute_error [500,0.2]: 7.6616115918970875\n",
      "mean_absolute_error [500,0.3]: 7.65363482671175\n",
      "mean_absolute_error [500,0.4]: 7.65363482671175\n",
      "mean_absolute_error [500,0.5]: 7.65363482671175\n",
      "mean_absolute_error [500,0.6]: 7.65363482671175\n",
      "mean_absolute_error [500,0.7]: 7.65363482671175\n",
      "mean_absolute_error [500,0.8]: 7.65363482671175\n",
      "mean_absolute_error [500,0.9]: 7.65363482671175\n",
      "mean_absolute_error [1000,0.1]: 7.660839804031311\n",
      "mean_absolute_error [1000,0.2]: 7.65363482671175\n",
      "mean_absolute_error [1000,0.3]: 7.65363482671175\n",
      "mean_absolute_error [1000,0.4]: 7.65363482671175\n",
      "mean_absolute_error [1000,0.5]: 7.65363482671175\n",
      "mean_absolute_error [1000,0.6]: 7.65363482671175\n",
      "mean_absolute_error [1000,0.7]: 7.65363482671175\n",
      "mean_absolute_error [1000,0.8]: 7.65363482671175\n",
      "mean_absolute_error [1000,0.9]: 7.65363482671175\n",
      "mean_absolute_error [10000.0,0.1]: 7.65363482671175\n",
      "mean_absolute_error [10000.0,0.2]: 7.65363482671175\n",
      "mean_absolute_error [10000.0,0.3]: 7.65363482671175\n",
      "mean_absolute_error [10000.0,0.4]: 7.65363482671175\n",
      "mean_absolute_error [10000.0,0.5]: 7.65363482671175\n",
      "mean_absolute_error [10000.0,0.6]: 7.65363482671175\n",
      "mean_absolute_error [10000.0,0.7]: 7.65363482671175\n",
      "mean_absolute_error [10000.0,0.8]: 7.65363482671175\n",
      "mean_absolute_error [10000.0,0.9]: 7.65363482671175\n",
      "mean_absolute_error [100000.0,0.1]: 7.65363482671175\n",
      "mean_absolute_error [100000.0,0.2]: 7.65363482671175\n",
      "mean_absolute_error [100000.0,0.3]: 7.65363482671175\n",
      "mean_absolute_error [100000.0,0.4]: 7.65363482671175\n",
      "mean_absolute_error [100000.0,0.5]: 7.65363482671175\n",
      "mean_absolute_error [100000.0,0.6]: 7.65363482671175\n",
      "mean_absolute_error [100000.0,0.7]: 7.65363482671175\n",
      "mean_absolute_error [100000.0,0.8]: 7.65363482671175\n",
      "mean_absolute_error [100000.0,0.9]: 7.65363482671175\n",
      "mean_absolute_error [1000000.0,0.1]: 7.65363482671175\n",
      "mean_absolute_error [1000000.0,0.2]: 7.65363482671175\n",
      "mean_absolute_error [1000000.0,0.3]: 7.65363482671175\n",
      "mean_absolute_error [1000000.0,0.4]: 7.65363482671175\n",
      "mean_absolute_error [1000000.0,0.5]: 7.65363482671175\n",
      "mean_absolute_error [1000000.0,0.6]: 7.65363482671175\n",
      "mean_absolute_error [1000000.0,0.7]: 7.65363482671175\n",
      "mean_absolute_error [1000000.0,0.8]: 7.65363482671175\n",
      "mean_absolute_error [1000000.0,0.9]: 7.65363482671175\n",
      "mean_absolute_error [10000000.0,0.1]: 7.65363482671175\n",
      "mean_absolute_error [10000000.0,0.2]: 7.65363482671175\n",
      "mean_absolute_error [10000000.0,0.3]: 7.65363482671175\n",
      "mean_absolute_error [10000000.0,0.4]: 7.65363482671175\n",
      "mean_absolute_error [10000000.0,0.5]: 7.65363482671175\n",
      "mean_absolute_error [10000000.0,0.6]: 7.65363482671175\n",
      "mean_absolute_error [10000000.0,0.7]: 7.65363482671175\n",
      "mean_absolute_error [10000000.0,0.8]: 7.65363482671175\n",
      "mean_absolute_error [10000000.0,0.9]: 7.65363482671175\n",
      "mean_absolute_error [100000000.0,0.1]: 7.65363482671175\n",
      "mean_absolute_error [100000000.0,0.2]: 7.65363482671175\n",
      "mean_absolute_error [100000000.0,0.3]: 7.65363482671175\n",
      "mean_absolute_error [100000000.0,0.4]: 7.65363482671175\n",
      "mean_absolute_error [100000000.0,0.5]: 7.65363482671175\n",
      "mean_absolute_error [100000000.0,0.6]: 7.65363482671175\n",
      "mean_absolute_error [100000000.0,0.7]: 7.65363482671175\n",
      "mean_absolute_error [100000000.0,0.8]: 7.65363482671175\n",
      "mean_absolute_error [100000000.0,0.9]: 7.65363482671175\n",
      "mean_absolute_error [1000000000.0,0.1]: 7.65363482671175\n",
      "mean_absolute_error [1000000000.0,0.2]: 7.65363482671175\n",
      "mean_absolute_error [1000000000.0,0.3]: 7.65363482671175\n",
      "mean_absolute_error [1000000000.0,0.4]: 7.65363482671175\n",
      "mean_absolute_error [1000000000.0,0.5]: 7.65363482671175\n",
      "mean_absolute_error [1000000000.0,0.6]: 7.65363482671175\n",
      "mean_absolute_error [1000000000.0,0.7]: 7.65363482671175\n",
      "mean_absolute_error [1000000000.0,0.8]: 7.65363482671175\n",
      "mean_absolute_error [1000000000.0,0.9]: 7.65363482671175\n",
      "mean_absolute_error [10000000000.0,0.1]: 7.65363482671175\n",
      "mean_absolute_error [10000000000.0,0.2]: 7.65363482671175\n",
      "mean_absolute_error [10000000000.0,0.3]: 7.65363482671175\n",
      "mean_absolute_error [10000000000.0,0.4]: 7.65363482671175\n",
      "mean_absolute_error [10000000000.0,0.5]: 7.65363482671175\n",
      "mean_absolute_error [10000000000.0,0.6]: 7.65363482671175\n",
      "mean_absolute_error [10000000000.0,0.7]: 7.65363482671175\n",
      "mean_absolute_error [10000000000.0,0.8]: 7.65363482671175\n",
      "mean_absolute_error [10000000000.0,0.9]: 7.65363482671175\n",
      "mean_absolute_error [100000000000.0,0.1]: 7.65363482671175\n",
      "mean_absolute_error [100000000000.0,0.2]: 7.65363482671175\n",
      "mean_absolute_error [100000000000.0,0.3]: 7.65363482671175\n",
      "mean_absolute_error [100000000000.0,0.4]: 7.65363482671175\n",
      "mean_absolute_error [100000000000.0,0.5]: 7.65363482671175\n",
      "mean_absolute_error [100000000000.0,0.6]: 7.65363482671175\n",
      "mean_absolute_error [100000000000.0,0.7]: 7.65363482671175\n",
      "mean_absolute_error [100000000000.0,0.8]: 7.65363482671175\n",
      "mean_absolute_error [100000000000.0,0.9]: 7.65363482671175\n",
      "mean_absolute_error [1000000000000.0,0.1]: 7.65363482671175\n",
      "mean_absolute_error [1000000000000.0,0.2]: 7.65363482671175\n",
      "mean_absolute_error [1000000000000.0,0.3]: 7.65363482671175\n",
      "mean_absolute_error [1000000000000.0,0.4]: 7.65363482671175\n",
      "mean_absolute_error [1000000000000.0,0.5]: 7.65363482671175\n",
      "mean_absolute_error [1000000000000.0,0.6]: 7.65363482671175\n",
      "mean_absolute_error [1000000000000.0,0.7]: 7.65363482671175\n",
      "mean_absolute_error [1000000000000.0,0.8]: 7.65363482671175\n",
      "mean_absolute_error [1000000000000.0,0.9]: 7.65363482671175\n",
      "\n",
      "-------------------------\n",
      "best_mean_absolute_error: 7.598305514712021\n",
      "parameter 1: 100\n",
      "parameter 2: 0.5\n",
      "-------------------------\n",
      "\n"
     ]
    }
   ],
   "source": [
    "parameters1_Iquitos = [0.1,1.0,5.0,10,20, 50,100,200,500,1000,1e4,1e5,1e6,1e7,1e8,1e9,1e10,1e11,1e12]\n",
    "parameters2_Iquitos = [0.1,0.2,0.3,0.4,0.5,0.6,0.7,0.8,0.9]\n",
    "\n",
    "param1_iq, param2_iq, scores__mean_absulute_error_iq = find_best_params(X_iq_train,\n",
    "                                                                                 y_iq_train,\n",
    "                                                                                 X_iq_test,\n",
    "                                                                                 y_iq_test,\n",
    "                                                                                 parameters1_Iquitos,\n",
    "                                                                                 parameters2_Iquitos)"
   ]
  },
  {
   "cell_type": "code",
   "execution_count": 14,
   "metadata": {
    "collapsed": false
   },
   "outputs": [
    {
     "data": {
      "image/png": "[encoded data removed]",
      "text/plain": [
       "<matplotlib.figure.Figure at 0x7f7ce7aaa9e8>"
      ]
     },
     "metadata": {},
     "output_type": "display_data"
    }
   ],
   "source": [
    "plt.figure(figsize=(8, 6))\n",
    "plt.subplots_adjust(left=.2, right=0.95, bottom=0.15, top=0.95)\n",
    "plt.imshow(scores__mean_absulute_error_iq, interpolation='nearest', cmap=plt.cm.hot_r)\n",
    "plt.ylabel('n_estimators')\n",
    "plt.xlabel('max_depth')\n",
    "plt.colorbar()\n",
    "plt.yticks(np.arange(len(parameters1_Iquitos)), parameters1_Iquitos, rotation=45)\n",
    "plt.xticks(np.arange(len(parameters2_Iquitos)), parameters2_Iquitos)\n",
    "plt.title('Validation accuracy for Iquitos')\n",
    "plt.show()"
   ]
  },
  {
   "cell_type": "code",
   "execution_count": 15,
   "metadata": {
    "collapsed": false
   },
   "outputs": [],
   "source": [
    "regressor_sj = ElasticNet(alpha=param1_sj,l1_ratio=param2_sj)\n",
    "regressor_iq = ElasticNet(alpha=param1_iq,l1_ratio=param2_iq)"
   ]
  },
  {
   "cell_type": "code",
   "execution_count": 16,
   "metadata": {
    "collapsed": false
   },
   "outputs": [
    {
     "data": {
      "text/plain": [
       "ElasticNet(alpha=100, copy_X=True, fit_intercept=True, l1_ratio=0.5,\n",
       "      max_iter=1000, normalize=False, positive=False, precompute=False,\n",
       "      random_state=None, selection='cyclic', tol=0.0001, warm_start=False)"
      ]
     },
     "execution_count": 16,
     "metadata": {},
     "output_type": "execute_result"
    }
   ],
   "source": [
    "regressor_sj.fit(X_sj_train,y_sj_train)\n",
    "regressor_iq.fit(X_iq_train,y_iq_train)"
   ]
  },
  {
   "cell_type": "code",
   "execution_count": 17,
   "metadata": {
    "collapsed": false
   },
   "outputs": [],
   "source": [
    "predictions_sj = regressor_sj.predict(X_sj_test)\n",
    "predictions_iq = regressor_iq.predict(X_iq_test)"
   ]
  },
  {
   "cell_type": "code",
   "execution_count": 18,
   "metadata": {
    "collapsed": false
   },
   "outputs": [
    {
     "name": "stdout",
     "output_type": "stream",
     "text": [
      "For San Juan\n",
      " \n",
      "mean_squared_error: 740.5941733556017\n",
      "mean_absolute_error: 21.597883351009344\n",
      "\n",
      "For Iquitos\n",
      " \n",
      "mean_squared_error: 152.66475835217628\n",
      "mean_absolute_error: 7.598305514712021\n"
     ]
    },
    {
     "data": {
      "text/plain": [
       "<matplotlib.legend.Legend at 0x7f7ce78d3630>"
      ]
     },
     "execution_count": 18,
     "metadata": {},
     "output_type": "execute_result"
    },
    {
     "data": {
      "image/png": "[encoded data removed]",
      "text/plain": [
       "<matplotlib.figure.Figure at 0x7f7ce797b1d0>"
      ]
     },
     "metadata": {},
     "output_type": "display_data"
    },
    {
     "data": {
      "image/png": "[encoded data removed]",
      "text/plain": [
       "<matplotlib.figure.Figure at 0x7f7ce7879780>"
      ]
     },
     "metadata": {},
     "output_type": "display_data"
    }
   ],
   "source": [
    "from sklearn.metrics import mean_squared_error\n",
    "\n",
    "print(\"For San Juan\\n \")\n",
    "print(\"mean_squared_error: {0}\".format(mean_squared_error(y_sj_test, predictions_sj)))\n",
    "print(\"mean_absolute_error: {0}\".format(mean_absolute_error(y_sj_test, predictions_sj)))\n",
    "print(\"\\nFor Iquitos\\n \")\n",
    "print(\"mean_squared_error: {0}\".format(mean_squared_error(y_iq_test, predictions_iq)))\n",
    "print(\"mean_absolute_error: {0}\".format(mean_absolute_error(y_iq_test, predictions_iq)))\n",
    "\n",
    "df1 = pd.DataFrame({\"predicted\":predictions_sj,\"actual\":y_sj_test})\n",
    "\n",
    "df1.plot()\n",
    "plt.title('San Juan: predicted vs actual')\n",
    "plt.xlabel('Time')\n",
    "\n",
    "df2 = pd.DataFrame({\"predicted\":predictions_iq,\"actual\":y_iq_test})\n",
    "\n",
    "df2.plot()\n",
    "plt.title('Iquitos: predicted vs actual')\n",
    "plt.xlabel('Time')\n",
    "\n",
    "plt.legend()"
   ]
  },
  {
   "cell_type": "code",
   "execution_count": 19,
   "metadata": {
    "collapsed": false
   },
   "outputs": [
    {
     "data": {
      "text/plain": [
       "ElasticNet(alpha=100, copy_X=True, fit_intercept=True, l1_ratio=0.5,\n",
       "      max_iter=1000, normalize=False, positive=False, precompute=False,\n",
       "      random_state=None, selection='cyclic', tol=0.0001, warm_start=False)"
      ]
     },
     "execution_count": 19,
     "metadata": {},
     "output_type": "execute_result"
    }
   ],
   "source": [
    "regressor_sj.fit(sj_features,sj_targets)\n",
    "regressor_iq.fit(iq_features,iq_targets)"
   ]
  },
  {
   "cell_type": "code",
   "execution_count": 20,
   "metadata": {
    "collapsed": false
   },
   "outputs": [],
   "source": [
    "#sj_test, iq_test = preprocess_data('dengue_features_test.csv')\n",
    "\n",
    "\n",
    "\n",
    "#sj_predictions = regressor_sj.predict(sj_test).astype(int)\n",
    "#iq_predictions = regressor_iq.predict(iq_test).astype(int)\n",
    "\n",
    "#submission = pd.read_csv(\"submission_format.csv\",\n",
    "         #                index_col=[0, 1, 2])\n",
    "\n",
    "#submission.total_cases = np.concatenate((sj_predictions, iq_predictions),axis=0)\n",
    "#submission.to_csv(\"random_forest_regression_test_more_lags_Iquitos.csv\")"
   ]
  }
 ],
 "metadata": {
  "kernelspec": {
   "display_name": "Python 3",
   "language": "python",
   "name": "python3"
  },
  "language_info": {
   "codemirror_mode": {
    "name": "ipython",
    "version": 3
   },
   "file_extension": ".py",
   "mimetype": "text/x-python",
   "name": "python",
   "nbconvert_exporter": "python",
   "pygments_lexer": "ipython3",
   "version": "3.6.0"
  }
 },
 "nbformat": 4,
 "nbformat_minor": 2
}
