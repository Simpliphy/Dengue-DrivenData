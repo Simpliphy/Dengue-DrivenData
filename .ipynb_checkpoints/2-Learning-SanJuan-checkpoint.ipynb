{
 "cells": [
  {
   "cell_type": "code",
   "execution_count": 1,
   "metadata": {
    "collapsed": true
   },
   "outputs": [],
   "source": [
    "import pandas as pd\n",
    "import numpy as np\n",
    "import matplotlib.pyplot as plt\n",
    "import seaborn as sns\n",
    "from IPython.display import HTML\n",
    "\n",
    "%matplotlib inline"
   ]
  },
  {
   "cell_type": "code",
   "execution_count": 2,
   "metadata": {
    "collapsed": false
   },
   "outputs": [
    {
     "name": "stdout",
     "output_type": "stream",
     "text": [
      "\u001b[01;34m.\u001b[00m\r\n",
      "├── 1-Data-exploration.ipynb\r\n",
      "├── 2-Learning.ipynb\r\n",
      "├── 2-Learning-SanJuan-Copy1.ipynb\r\n",
      "├── 2-Learning-SanJuan.ipynb\r\n",
      "├── 2-Median Submission.ipynb\r\n",
      "├── data_processing.py\r\n",
      "├── dengue_features_test.csv\r\n",
      "├── dengue_features_train.csv\r\n",
      "├── dengue_labels_train.csv\r\n",
      "├── \u001b[01;35mIquitos-plaza.jpg\u001b[00m\r\n",
      "├── median_as_prediction.csv\r\n",
      "├── optimizationOfModels.py\r\n",
      "├── \u001b[01;34m__pycache__\u001b[00m\r\n",
      "│   ├── data_processing.cpython-36.pyc\r\n",
      "│   └── optimizationOfModels.cpython-36.pyc\r\n",
      "├── README.md\r\n",
      "├── SanJuan-ElasticNet_Iquitos-RandomForest.csv\r\n",
      "├── San_Juan-Puerto_Rico.JPG\r\n",
      "├── SanJuan-RandomForest_Iquitos-RandomForest.csv\r\n",
      "└── submission_format.csv\r\n",
      "\r\n",
      "1 directory, 19 files\r\n"
     ]
    }
   ],
   "source": [
    "!tree"
   ]
  },
  {
   "cell_type": "markdown",
   "metadata": {},
   "source": [
    "# 1. Data import and processing "
   ]
  },
  {
   "cell_type": "code",
   "execution_count": 3,
   "metadata": {
    "collapsed": false
   },
   "outputs": [],
   "source": [
    "# load the provided data\n",
    "train_features = pd.read_csv('dengue_features_train.csv')\n",
    "train_labels = pd.read_csv('dengue_labels_train.csv')"
   ]
  },
  {
   "cell_type": "code",
   "execution_count": 4,
   "metadata": {
    "collapsed": false
   },
   "outputs": [],
   "source": [
    "from data_processing import preprocess_data,split_time_series,preprocess_data_with_PCA\n",
    "\n",
    "lag_step_for_SanJuan = 15\n",
    "lag_step_for_Iquitos = 20\n",
    "\n",
    "sj_features,sj_targets, iq_features, iq_targets = preprocess_data_with_PCA('dengue_features_train.csv',\n",
    "                                                    labels_path=\"dengue_labels_train.csv\",\n",
    "                                                    lag_step_for_SanJuan = lag_step_for_SanJuan,\n",
    "                                                    lag_step_for_Iquitos = lag_step_for_Iquitos)"
   ]
  },
  {
   "cell_type": "markdown",
   "metadata": {},
   "source": [
    "# 2. Training "
   ]
  },
  {
   "cell_type": "code",
   "execution_count": 5,
   "metadata": {
    "collapsed": false
   },
   "outputs": [],
   "source": [
    "test_set_ratio = 0.3 \n",
    "\n",
    "X_sj_train, X_sj_test, y_sj_train, y_sj_test = split_time_series(sj_features, sj_targets, test_set_ratio)\n",
    "\n"
   ]
  },
  {
   "cell_type": "markdown",
   "metadata": {},
   "source": [
    "## 2.1 Optimization of parameters for San Juan"
   ]
  },
  {
   "cell_type": "code",
   "execution_count": 6,
   "metadata": {
    "collapsed": false
   },
   "outputs": [],
   "source": [
    "from optimizationOfModels import find_best_params_ElasticNet, find_best_params_RandomForest"
   ]
  },
  {
   "cell_type": "code",
   "execution_count": null,
   "metadata": {
    "collapsed": false
   },
   "outputs": [],
   "source": []
  },
  {
   "cell_type": "code",
   "execution_count": 7,
   "metadata": {
    "collapsed": false
   },
   "outputs": [
    {
     "name": "stdout",
     "output_type": "stream",
     "text": [
      "mean_absolute_error [n_estimators,max_depth]: mean absolute error\n",
      "mean_absolute_error [5,10]: 28.569750889679717\n",
      "mean_absolute_error [5,15]: 29.468683274021355\n",
      "mean_absolute_error [10,10]: 26.532740213523134\n",
      "mean_absolute_error [10,15]: 29.189857651245553\n",
      "mean_absolute_error [20,10]: 26.22348754448399\n",
      "mean_absolute_error [20,15]: 27.6135231316726\n",
      "mean_absolute_error [50,10]: 26.341779359430603\n",
      "mean_absolute_error [50,15]: 27.875765124555162\n",
      "mean_absolute_error [100,10]: 25.603612099644128\n",
      "mean_absolute_error [100,15]: 27.34286476868327\n",
      "mean_absolute_error [150,10]: 25.19888493475682\n",
      "mean_absolute_error [150,15]: 26.826761565836296\n",
      "mean_absolute_error [200,10]: 25.382571174377226\n",
      "mean_absolute_error [200,15]: 26.977775800711747\n",
      "\n",
      "-------------------------\n",
      "best_mean_absolute_error: 25.19888493475682\n",
      "n_estimators: 150\n",
      "max_depth: 10\n",
      "-------------------------\n",
      "\n"
     ]
    }
   ],
   "source": [
    "parameters1_SanJuan = [5,10,20,50,100,150,200]\n",
    "parameters2_SanJuan = [10,15]\n",
    "\n",
    "param1_sj, param2_sj, scores__mean_absulute_error_sj = find_best_params_RandomForest(X_sj_train,\n",
    "                                                                                 y_sj_train,\n",
    "                                                                                 X_sj_test,\n",
    "                                                                                 y_sj_test,\n",
    "                                                                                 parameters1_SanJuan,\n",
    "                                                                                 parameters2_SanJuan)"
   ]
  },
  {
   "cell_type": "code",
   "execution_count": 8,
   "metadata": {
    "collapsed": false
   },
   "outputs": [
    {
     "data": {
      "image/png": "[encoded data removed]",
      "text/plain": [
       "<matplotlib.figure.Figure at 0x7efd0802ae10>"
      ]
     },
     "metadata": {},
     "output_type": "display_data"
    }
   ],
   "source": [
    "plt.figure(figsize=(8, 6))\n",
    "plt.subplots_adjust(left=.2, right=0.95, bottom=0.15, top=0.95)\n",
    "plt.imshow(scores__mean_absulute_error_sj, interpolation='nearest', cmap=plt.cm.hot_r)\n",
    "plt.ylabel('alpha')\n",
    "plt.xlabel('--')\n",
    "plt.colorbar()\n",
    "plt.yticks(np.arange(len(parameters1_SanJuan)), parameters1_SanJuan, rotation=45)\n",
    "plt.xticks(np.arange(len(parameters2_SanJuan)), parameters2_SanJuan)\n",
    "plt.title('Validation accuracy for San Juan')\n",
    "plt.show()"
   ]
  },
  {
   "cell_type": "markdown",
   "metadata": {},
   "source": [
    "## 2.3 Final evaluation of models"
   ]
  },
  {
   "cell_type": "code",
   "execution_count": 9,
   "metadata": {
    "collapsed": false
   },
   "outputs": [],
   "source": [
    "from sklearn.linear_model import ElasticNet\n",
    "from sklearn.ensemble import RandomForestRegressor\n",
    "\n",
    "#regressor_sj = ElasticNet(alpha=param1_sj,\n",
    "#                          l1_ratio=param2_sj)\n",
    "regressor_sj = RandomForestRegressor(n_estimators=param1_sj,\n",
    "                                     max_depth=param2_sj,\n",
    "                                     criterion='mae',\n",
    "                                     warm_start = True,\n",
    "                                     random_state=0,\n",
    "                                     n_jobs=8)\n",
    "\n"
   ]
  },
  {
   "cell_type": "code",
   "execution_count": 10,
   "metadata": {
    "collapsed": false
   },
   "outputs": [
    {
     "data": {
      "text/plain": [
       "RandomForestRegressor(bootstrap=True, criterion='mae', max_depth=10,\n",
       "           max_features='auto', max_leaf_nodes=None,\n",
       "           min_impurity_split=1e-07, min_samples_leaf=1,\n",
       "           min_samples_split=2, min_weight_fraction_leaf=0.0,\n",
       "           n_estimators=150, n_jobs=8, oob_score=False, random_state=0,\n",
       "           verbose=0, warm_start=True)"
      ]
     },
     "execution_count": 10,
     "metadata": {},
     "output_type": "execute_result"
    }
   ],
   "source": [
    "regressor_sj.fit(X_sj_train,y_sj_train)\n"
   ]
  },
  {
   "cell_type": "code",
   "execution_count": null,
   "metadata": {
    "collapsed": false
   },
   "outputs": [],
   "source": []
  },
  {
   "cell_type": "code",
   "execution_count": 11,
   "metadata": {
    "collapsed": false
   },
   "outputs": [
    {
     "data": {
      "text/plain": [
       "<matplotlib.axes._subplots.AxesSubplot at 0x7efd017b4f98>"
      ]
     },
     "execution_count": 11,
     "metadata": {},
     "output_type": "execute_result"
    },
    {
     "data": {
      "image/png": "[encoded data removed]",
      "text/plain": [
       "<matplotlib.figure.Figure at 0x7efd017ab4e0>"
      ]
     },
     "metadata": {},
     "output_type": "display_data"
    }
   ],
   "source": [
    "df_features_importance = pd.concat((pd.DataFrame(X_sj_train.columns, columns = ['variable']), \n",
    "           pd.DataFrame(regressor_sj.feature_importances_, columns = ['importance'])), \n",
    "          axis = 1).sort_values(by='importance', ascending = False)[:20]\n",
    "\n",
    "df_features_importance.plot.bar(x=df_features_importance['variable'])"
   ]
  },
  {
   "cell_type": "code",
   "execution_count": 12,
   "metadata": {
    "collapsed": false
   },
   "outputs": [
    {
     "name": "stdout",
     "output_type": "stream",
     "text": [
      "For San Juan\n",
      " \n",
      "mean_squared_error: 1037.1775762752077\n",
      "mean_absolute_error: 25.19888493475682\n",
      "mean_absolute_error from median (test): 14.523131672597865\n",
      "mean_absolute_error from median (train): 17.797153024911033\n"
     ]
    }
   ],
   "source": [
    "from sklearn.metrics import mean_squared_error, mean_absolute_error\n",
    "\n",
    "predictions_sj = regressor_sj.predict(X_sj_test)\n",
    "\n",
    "print(\"For San Juan\\n \")\n",
    "print(\"mean_squared_error: {0}\".format(mean_squared_error(y_sj_test, predictions_sj)))\n",
    "print(\"mean_absolute_error: {0}\".format(mean_absolute_error(y_sj_test, predictions_sj)))\n",
    "\n",
    "median = y_sj_test.median()\n",
    "mean_absolute_error_from_median = mean_absolute_error(y_sj_test, np.repeat(median,y_sj_test.shape[0]))\n",
    "print(\"mean_absolute_error from median (test): {0}\".format(mean_absolute_error_from_median))\n",
    "\n",
    "median = y_sj_train.median()\n",
    "mean_absolute_error_from_median = mean_absolute_error(y_sj_test, np.repeat(median,y_sj_test.shape[0]))\n",
    "print(\"mean_absolute_error from median (train): {0}\".format(mean_absolute_error_from_median))\n",
    "\n"
   ]
  },
  {
   "cell_type": "code",
   "execution_count": 17,
   "metadata": {
    "collapsed": false
   },
   "outputs": [],
   "source": [
    "old_median = np.median(predictions_sj)\n",
    "new_median = y_sj_train.median()\n",
    "shift = new_median - old_median\n",
    "\n",
    "predictions_sj_shifted = predictions_sj + shift\n",
    "predictions_sj_shifted = np.maximum(predictions_sj_shifted, np.zeros(predictions_sj_shifted.shape[0]))"
   ]
  },
  {
   "cell_type": "code",
   "execution_count": 18,
   "metadata": {
    "collapsed": false
   },
   "outputs": [
    {
     "data": {
      "text/plain": [
       "<matplotlib.text.Text at 0x7efd014b7390>"
      ]
     },
     "execution_count": 18,
     "metadata": {},
     "output_type": "execute_result"
    },
    {
     "data": {
      "image/png": "[encoded data removed]",
      "text/plain": [
       "<matplotlib.figure.Figure at 0x7efd01501438>"
      ]
     },
     "metadata": {},
     "output_type": "display_data"
    }
   ],
   "source": [
    "df1 = pd.DataFrame({\"predicted\":predictions_sj_shifted,\"actual\":y_sj_test})\n",
    "\n",
    "df1.plot()\n",
    "plt.title('San Juan: predicted vs actual')\n",
    "plt.xlabel('Time')\n"
   ]
  },
  {
   "cell_type": "code",
   "execution_count": 19,
   "metadata": {
    "collapsed": false
   },
   "outputs": [
    {
     "name": "stdout",
     "output_type": "stream",
     "text": [
      "mean_absolute_error: 17.578279952550414\n"
     ]
    }
   ],
   "source": [
    "print(\"mean_absolute_error: {0}\".format(mean_absolute_error(y_sj_test, predictions_sj_shifted)))"
   ]
  },
  {
   "cell_type": "code",
   "execution_count": null,
   "metadata": {
    "collapsed": false
   },
   "outputs": [],
   "source": [
    "from sklearn.metrics import mean_squared_error, mean_absolute_error\n",
    "\n",
    "\n",
    "predictions_sj = regressor_sj.predict(sj_features)\n",
    "\n",
    "print(\"For San Juan\\n \")\n",
    "print(\"mean_squared_error: {0}\".format(mean_squared_error(sj_targets, predictions_sj)))\n",
    "print(\"mean_absolute_error: {0}\".format(mean_absolute_error(sj_targets, predictions_sj)))\n",
    "\n",
    "median = sj_targets.median()\n",
    "mean_absolute_error_from_median = mean_absolute_error(sj_targets, np.repeat(median,sj_targets.shape[0]))\n",
    "print(\"mean_absolute_error from median: {0}\".format(mean_absolute_error_from_median))\n",
    "\n",
    "\n",
    "df1 = pd.DataFrame({\"predicted\":predictions_sj,\"actual\":sj_targets})\n",
    "\n",
    "df1.plot()\n",
    "plt.title('San Juan: predicted vs actual')\n",
    "plt.xlabel('Time')\n"
   ]
  },
  {
   "cell_type": "code",
   "execution_count": null,
   "metadata": {
    "collapsed": true
   },
   "outputs": [],
   "source": []
  },
  {
   "cell_type": "markdown",
   "metadata": {},
   "source": [
    "# 3. Submission"
   ]
  },
  {
   "cell_type": "code",
   "execution_count": null,
   "metadata": {
    "collapsed": false
   },
   "outputs": [],
   "source": [
    "sj_test, iq_test = preprocess_data('dengue_features_test.csv',\n",
    "                                   lag_step_for_SanJuan = lag_step_for_SanJuan,\n",
    "                                   lag_step_for_Iquitos = lag_step_for_Iquitos)\n",
    "\n",
    "\n",
    "sj_predictions = regressor_sj.predict(sj_test).astype(int)\n",
    "iq_predictions = regressor_iq.predict(iq_test).astype(int)\n",
    "\n",
    "submission = pd.read_csv(\"submission_format.csv\",\n",
    "                         index_col=[0, 1, 2])\n",
    "\n",
    "submission.total_cases = np.concatenate((sj_predictions, iq_predictions),axis=0)\n",
    "submission.to_csv(\"SanJuan-RandomForest_Iquitos-RandomForest.csv\")"
   ]
  },
  {
   "cell_type": "code",
   "execution_count": null,
   "metadata": {
    "collapsed": false
   },
   "outputs": [],
   "source": [
    "X_sj_train.shape"
   ]
  },
  {
   "cell_type": "code",
   "execution_count": null,
   "metadata": {
    "collapsed": true
   },
   "outputs": [],
   "source": []
  }
 ],
 "metadata": {
  "kernelspec": {
   "display_name": "Python 3",
   "language": "python",
   "name": "python3"
  },
  "language_info": {
   "codemirror_mode": {
    "name": "ipython",
    "version": 3
   },
   "file_extension": ".py",
   "mimetype": "text/x-python",
   "name": "python",
   "nbconvert_exporter": "python",
   "pygments_lexer": "ipython3",
   "version": "3.6.0"
  }
 },
 "nbformat": 4,
 "nbformat_minor": 2
}
