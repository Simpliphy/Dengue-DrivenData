{
 "cells": [
  {
   "cell_type": "code",
   "execution_count": 1,
   "metadata": {
    "collapsed": true
   },
   "outputs": [],
   "source": [
    "import pandas as pd\n",
    "import numpy as np\n",
    "import matplotlib.pyplot as plt\n",
    "import seaborn as sns\n",
    "from IPython.display import HTML\n",
    "\n",
    "%matplotlib inline"
   ]
  },
  {
   "cell_type": "code",
   "execution_count": 2,
   "metadata": {
    "collapsed": false
   },
   "outputs": [
    {
     "name": "stdout",
     "output_type": "stream",
     "text": [
      "\u001b[01;34m.\u001b[00m\r\n",
      "├── 1-Data-exploration.ipynb\r\n",
      "├── benchmark_arima.csv\r\n",
      "├── benchmark.csv\r\n",
      "├── \u001b[01;34mbenchmarks-master\u001b[00m\r\n",
      "│   ├── bees-benchmark.ipynb\r\n",
      "│   ├── dengue-benchmark-statsmodels.ipynb\r\n",
      "│   ├── fogwater-benchmark-model.ipynb\r\n",
      "│   ├── LICENSE\r\n",
      "│   └── README.md\r\n",
      "├── \u001b[01;31mbenchmarks-master.zip\u001b[00m\r\n",
      "├── Dengue-benchmark-ARIMA.ipynb\r\n",
      "├── dengue_features_test.csv\r\n",
      "├── dengue_features_train.csv\r\n",
      "├── dengue_labels_train.csv\r\n",
      "├── dengue-notebook.ipynb\r\n",
      "├── dengue-notebook-RandomForest.ipynb\r\n",
      "├── dengue-notebook-Ridge.ipynb\r\n",
      "├── dengue-notebook-svr.ipynb\r\n",
      "├── \u001b[01;35mIquitos-plaza.jpg\u001b[00m\r\n",
      "├── random_forest_regression_all_features.csv\r\n",
      "├── random_forest_regression.csv\r\n",
      "├── random_forest_regression_test_more_lags_Iquitos.csv\r\n",
      "├── README.md\r\n",
      "├── results.csv\r\n",
      "├── results_lasso.csv\r\n",
      "├── results_RandomForestRegression.csv\r\n",
      "├── results_Ridge.csv\r\n",
      "├── San_Juan-Puerto_Rico.JPG\r\n",
      "├── submission_format.csv\r\n",
      "└── SVR_pure.csv\r\n",
      "\r\n",
      "1 directory, 29 files\r\n"
     ]
    }
   ],
   "source": [
    "!tree"
   ]
  },
  {
   "cell_type": "markdown",
   "metadata": {},
   "source": [
    "# Data import"
   ]
  },
  {
   "cell_type": "markdown",
   "metadata": {},
   "source": [
    "## Preprocessing of the data"
   ]
  },
  {
   "cell_type": "code",
   "execution_count": 3,
   "metadata": {
    "collapsed": false
   },
   "outputs": [],
   "source": [
    "# load the provided data\n",
    "train_features = pd.read_csv('dengue_features_train.csv')\n",
    "train_labels = pd.read_csv('dengue_labels_train.csv')"
   ]
  },
  {
   "cell_type": "code",
   "execution_count": 4,
   "metadata": {
    "collapsed": false
   },
   "outputs": [
    {
     "data": {
      "text/plain": [
       "Index(['city', 'year', 'weekofyear', 'week_start_date', 'ndvi_ne', 'ndvi_nw',\n",
       "       'ndvi_se', 'ndvi_sw', 'precipitation_amt_mm', 'reanalysis_air_temp_k',\n",
       "       'reanalysis_avg_temp_k', 'reanalysis_dew_point_temp_k',\n",
       "       'reanalysis_max_air_temp_k', 'reanalysis_min_air_temp_k',\n",
       "       'reanalysis_precip_amt_kg_per_m2',\n",
       "       'reanalysis_relative_humidity_percent', 'reanalysis_sat_precip_amt_mm',\n",
       "       'reanalysis_specific_humidity_g_per_kg', 'reanalysis_tdtr_k',\n",
       "       'station_avg_temp_c', 'station_diur_temp_rng_c', 'station_max_temp_c',\n",
       "       'station_min_temp_c', 'station_precip_mm'],\n",
       "      dtype='object')"
      ]
     },
     "execution_count": 4,
     "metadata": {},
     "output_type": "execute_result"
    }
   ],
   "source": [
    "\n",
    "train_features.columns"
   ]
  },
  {
   "cell_type": "code",
   "execution_count": null,
   "metadata": {
    "collapsed": true
   },
   "outputs": [],
   "source": []
  },
  {
   "cell_type": "code",
   "execution_count": 39,
   "metadata": {
    "collapsed": true
   },
   "outputs": [],
   "source": [
    "def add_lag(dataframe, columns,number_of_lag):\n",
    "    \n",
    "    for column in columns: # for each feature (column)\n",
    "        for lag in range(number_of_lag): # for each time step (lag)\n",
    "            dataframe[column + \"_time - \"+ str(lag)] = dataframe[column].shift(lag) # copy the previous value\n",
    "            \n",
    "    #remove the first number_of_lag rows\n",
    "    dataframe.fillna(method='backfill', inplace=True)\n",
    "    \n",
    "    return dataframe\n",
    "\n",
    "def preprocess_data(data_path, labels_path=None,lag_step_for_SanJuan=10,lag_step_for_Iquitos=10):\n",
    "    \n",
    "    \n",
    "    # load data and set index to city, year, weekofyear\n",
    "    df = pd.read_csv(data_path, index_col=[0, 1, 2])\n",
    "        \n",
    "    features = ['ndvi_ne', 'ndvi_nw',\n",
    "       'ndvi_se', 'ndvi_sw', 'precipitation_amt_mm', 'reanalysis_air_temp_k',\n",
    "       'reanalysis_avg_temp_k', 'reanalysis_dew_point_temp_k',\n",
    "       'reanalysis_max_air_temp_k', 'reanalysis_min_air_temp_k',\n",
    "       'reanalysis_precip_amt_kg_per_m2',\n",
    "       'reanalysis_relative_humidity_percent', 'reanalysis_sat_precip_amt_mm',\n",
    "       'reanalysis_specific_humidity_g_per_kg', 'reanalysis_tdtr_k',\n",
    "       'station_avg_temp_c', 'station_diur_temp_rng_c', 'station_max_temp_c',\n",
    "       'station_min_temp_c', 'station_precip_mm']\n",
    "    \n",
    "    df = df[features]\n",
    "    \n",
    "    # fill missing values\n",
    "    df.fillna(method='ffill', inplace=True)\n",
    "\n",
    "    # add labels to dataframe\n",
    "    if labels_path:\n",
    "        labels = pd.read_csv(labels_path, index_col=[0, 1, 2])\n",
    "        df = df.join(labels)\n",
    "    \n",
    "    # separate san juan and iquitos\n",
    "    sj = df.loc['sj']\n",
    "    iq = df.loc['iq']\n",
    "    \n",
    "    #add lag\n",
    "    sj = add_lag(sj, features, lag_step_for_SanJuan)\n",
    "    iq = add_lag(iq, features, lag_step_for_Iquitos)\n",
    "    \n",
    "    # fill navalues\n",
    "    sj.fillna(method='backfill', inplace=True)\n",
    "    iq.fillna(method='backfill', inplace=True)\n",
    "    \n",
    "    return sj, iq"
   ]
  },
  {
   "cell_type": "code",
   "execution_count": null,
   "metadata": {
    "collapsed": false
   },
   "outputs": [],
   "source": []
  },
  {
   "cell_type": "code",
   "execution_count": 61,
   "metadata": {
    "collapsed": false
   },
   "outputs": [
    {
     "name": "stderr",
     "output_type": "stream",
     "text": [
      "/home/louis/anaconda3/lib/python3.6/site-packages/ipykernel/__main__.py:5: SettingWithCopyWarning: \n",
      "A value is trying to be set on a copy of a slice from a DataFrame.\n",
      "Try using .loc[row_indexer,col_indexer] = value instead\n",
      "\n",
      "See the caveats in the documentation: http://pandas.pydata.org/pandas-docs/stable/indexing.html#indexing-view-versus-copy\n",
      "/home/louis/anaconda3/lib/python3.6/site-packages/pandas/core/frame.py:2852: SettingWithCopyWarning: \n",
      "A value is trying to be set on a copy of a slice from a DataFrame\n",
      "\n",
      "See the caveats in the documentation: http://pandas.pydata.org/pandas-docs/stable/indexing.html#indexing-view-versus-copy\n",
      "  downcast=downcast, **kwargs)\n"
     ]
    }
   ],
   "source": [
    "lag_step_for_SanJuan = 15\n",
    "lag_step_for_Iquitos = 20\n",
    "\n",
    "sj_train, iq_train = preprocess_data('dengue_features_train.csv',\n",
    "                                    labels_path=\"dengue_labels_train.csv\",\n",
    "                                    lag_step_for_SanJuan = lag_step_for_SanJuan,\n",
    "                                    lag_step_for_Iquitos = lag_step_for_Iquitos)\n",
    "\n"
   ]
  },
  {
   "cell_type": "markdown",
   "metadata": {},
   "source": [
    "## Training "
   ]
  },
  {
   "cell_type": "code",
   "execution_count": 62,
   "metadata": {
    "collapsed": false
   },
   "outputs": [],
   "source": [
    "from sklearn.ensemble import RandomForestRegressor\n",
    "from math import floor"
   ]
  },
  {
   "cell_type": "code",
   "execution_count": 63,
   "metadata": {
    "collapsed": true
   },
   "outputs": [],
   "source": [
    "#from sklearn.model_selection import TimeSeriesSplit\n",
    "#>>> X = np.array([[1, 2], [3, 4], [1, 2], [3, 4]])\n",
    "#>>> y = np.array([1, 2, 3, 4])\n",
    "#>>> tscv = TimeSeriesSplit(n_splits=3)\n",
    "#>>> print(tscv)  \n",
    "#TimeSeriesSplit(max_train_size=None, n_splits=3)\n",
    "#>>> for train_index, test_index in tscv.split(X):\n",
    "#...    print(\"TRAIN:\", train_index, \"TEST:\", test_index)\n",
    "#...    X_train, X_test = X[train_index], X[test_index]\n",
    "#...    y_train, y_test = y[train_index], y[test_index]\n",
    "#TRAIN: [0] TEST: [1]\n",
    "#TRAIN: [0 1] TEST: [2]\n",
    "#TRAIN: [0 1 2] TEST: [3]"
   ]
  },
  {
   "cell_type": "code",
   "execution_count": 64,
   "metadata": {
    "collapsed": false
   },
   "outputs": [],
   "source": [
    "sj_features  = sj_train.drop('total_cases', axis =1)\n",
    "sj_targets = sj_train['total_cases']\n",
    "\n",
    "iq_features  = iq_train.drop('total_cases', axis =1)\n",
    "iq_targets = iq_train['total_cases']\n",
    "\n",
    "def split_time_series(X, y, test_set_ratio):\n",
    "    \n",
    "\n",
    "    number_of_examples = X.shape[0]\n",
    "    last_index_in_train_set = floor( (1-test_set_ratio)*number_of_examples )\n",
    "    \n",
    "    X_train = X[:last_index_in_train_set]\n",
    "    X_test = X[last_index_in_train_set:]\n",
    "    \n",
    "    y_train = y[:last_index_in_train_set]\n",
    "    y_test = y[last_index_in_train_set:]\n",
    "    \n",
    "    return X_train, X_test, y_train, y_test\n",
    "\n",
    "\n",
    "test_set_ratio = 0.3 \n",
    "\n",
    "X_sj_train, X_sj_test, y_sj_train, y_sj_test = split_time_series(sj_features, sj_targets, test_set_ratio)\n",
    "X_iq_train, X_iq_test, y_iq_train, y_iq_test = split_time_series(iq_features, iq_targets, test_set_ratio)\n"
   ]
  },
  {
   "cell_type": "code",
   "execution_count": 65,
   "metadata": {
    "collapsed": false
   },
   "outputs": [],
   "source": [
    "from sklearn.metrics import mean_absolute_error\n",
    "\n",
    "# for San Juan\n",
    "def find_best_params(X_train,y_train,X_val,y_val,n_estimators,max_depths):\n",
    "    \n",
    "    print(\"mean_absolute_error [n_estomators,max_depth]: mae\")\n",
    "    scores_mean_absolute_error = np.zeros((len(n_estimators), len(max_depths) ))\n",
    "    best_score_mean_absolute_error = float(\"inf\")\n",
    "    best_parameters = [0,0]\n",
    "    \n",
    "    for i  in range(len(n_estimators)):\n",
    "        for j in range(len(max_depths)):\n",
    "\n",
    "            n_estimator = n_estimators[i]\n",
    "            max_depth = max_depths[j]\n",
    "\n",
    "            regressor_RF = RandomForestRegressor(n_estimators=n_estimator,max_depth = max_depth, random_state=0, n_jobs=8)\n",
    "            regressor_RF.fit(X_train,y_train)\n",
    "            predictions = regressor_RF.predict(X_val)\n",
    "\n",
    "            mean_absolute_error_ = mean_absolute_error(y_val, predictions)\n",
    "            print(\"mean_absolute_error [{0},{1}]: {2}\".format(n_estimator,max_depth,mean_absolute_error_))\n",
    "            scores_mean_absolute_error[i,j] = mean_absolute_error_\n",
    "\n",
    "            if mean_absolute_error_ < best_score_mean_absolute_error:\n",
    "               best_score_mean_absolute_error = mean_absolute_error_\n",
    "               best_parameters = [n_estimator, max_depth] \n",
    "    \n",
    "        \n",
    "\n",
    "    print(\"\\n-------------------------\")\n",
    "    print(\"best_mean_absolute_error: {0}\".format(best_score_mean_absolute_error))         \n",
    "    print(\"n_estimators: {0}\".format(best_parameters[0]))         \n",
    "    print(\"max_depth: {0}\".format(best_parameters[1])) \n",
    "    print(\"-------------------------\\n\")\n",
    "    \n",
    "    best_n_estimators = best_parameters[0]\n",
    "    best_max_depth = best_parameters[1]\n",
    "    \n",
    "    return best_n_estimators, best_max_depth,scores_mean_absolute_error"
   ]
  },
  {
   "cell_type": "code",
   "execution_count": 11,
   "metadata": {
    "collapsed": false
   },
   "outputs": [
    {
     "name": "stdout",
     "output_type": "stream",
     "text": [
      "mean_absolute_error [n_estomators,max_depth]: mae\n",
      "mean_absolute_error [5,10]: 29.74682215869225\n",
      "mean_absolute_error [5,15]: 28.735218529987215\n",
      "mean_absolute_error [5,20]: 30.077580071174374\n",
      "mean_absolute_error [5,40]: 30.077580071174374\n",
      "mean_absolute_error [10,10]: 26.79540529618069\n",
      "mean_absolute_error [10,15]: 26.878669841963784\n",
      "mean_absolute_error [10,20]: 28.45925266903914\n",
      "mean_absolute_error [10,40]: 28.34270462633452\n",
      "mean_absolute_error [20,10]: 28.109325118790178\n",
      "mean_absolute_error [20,15]: 27.117536252801347\n",
      "mean_absolute_error [20,20]: 28.591040925266903\n",
      "mean_absolute_error [20,40]: 28.321352313167257\n",
      "mean_absolute_error [100,10]: 28.72230757149521\n",
      "mean_absolute_error [100,15]: 28.82940771756498\n",
      "mean_absolute_error [100,20]: 29.11623561753981\n",
      "mean_absolute_error [100,40]: 29.054626334519575\n",
      "mean_absolute_error [400,10]: 28.85685128084463\n",
      "mean_absolute_error [400,15]: 29.366745648050347\n",
      "mean_absolute_error [400,20]: 29.371470395916397\n",
      "mean_absolute_error [400,40]: 29.34282028469751\n",
      "mean_absolute_error [800,10]: 28.8349252414731\n",
      "mean_absolute_error [800,15]: 29.225541701795812\n",
      "mean_absolute_error [800,20]: 29.225562422701213\n",
      "mean_absolute_error [800,40]: 29.276481316725977\n",
      "mean_absolute_error [1200,10]: 28.53538226166321\n",
      "mean_absolute_error [1200,15]: 29.025984739603068\n",
      "mean_absolute_error [1200,20]: 29.03077594675499\n",
      "mean_absolute_error [1200,40]: 29.055723606168446\n",
      "\n",
      "-------------------------\n",
      "best_mean_absolute_error: 26.79540529618069\n",
      "n_estimators: 10\n",
      "max_depth: 10\n",
      "-------------------------\n",
      "\n"
     ]
    }
   ],
   "source": [
    "n_estimators_SanJuan = [5,10,20,100,400,800,1200]\n",
    "max_depths_SanJuan = [10,15,20, 40]\n",
    "\n",
    "n_estimators_sj, max_depth_sj, scores__mean_absulute_error_sj = find_best_params(X_sj_train,\n",
    "                                                                                 y_sj_train,\n",
    "                                                                                 X_sj_test,\n",
    "                                                                                 y_sj_test,\n",
    "                                                                                 n_estimators_SanJuan,\n",
    "                                                                                 max_depths_SanJuan)"
   ]
  },
  {
   "cell_type": "code",
   "execution_count": 12,
   "metadata": {
    "collapsed": false
   },
   "outputs": [
    {
     "data": {
      "image/png": "[encoded data removed]",
      "text/plain": [
       "<matplotlib.figure.Figure at 0x7f98d52e8390>"
      ]
     },
     "metadata": {},
     "output_type": "display_data"
    }
   ],
   "source": [
    "plt.figure(figsize=(8, 6))\n",
    "plt.subplots_adjust(left=.2, right=0.95, bottom=0.15, top=0.95)\n",
    "plt.imshow(scores__mean_absulute_error_sj, interpolation='nearest', cmap=plt.cm.hot_r)\n",
    "plt.ylabel('n_estimators')\n",
    "plt.xlabel('max_depth')\n",
    "plt.colorbar()\n",
    "plt.yticks(np.arange(len(n_estimators_SanJuan)), n_estimators_SanJuan, rotation=45)\n",
    "plt.xticks(np.arange(len(max_depths_SanJuan)), max_depths_SanJuan)\n",
    "plt.title('Validation accuracy for San Juan')\n",
    "plt.show()"
   ]
  },
  {
   "cell_type": "code",
   "execution_count": 66,
   "metadata": {
    "collapsed": false
   },
   "outputs": [
    {
     "name": "stdout",
     "output_type": "stream",
     "text": [
      "mean_absolute_error [n_estomators,max_depth]: mae\n",
      "mean_absolute_error [400,20]: 7.6668948412698406\n",
      "\n",
      "-------------------------\n",
      "best_mean_absolute_error: 7.6668948412698406\n",
      "n_estimators: 400\n",
      "max_depth: 20\n",
      "-------------------------\n",
      "\n"
     ]
    }
   ],
   "source": [
    "#n_estimators_Iquitos = [100,200,400,800,1200,1500,2000]\n",
    "#max_depths_Iquitos = [5,10,15,20,40]\n",
    "\n",
    "n_estimators_Iquitos = [400]\n",
    "max_depths_Iquitos = [20]\n",
    "\n",
    "n_estimators_iq, max_depth_iq, scores__mean_absulute_error_iq = find_best_params(X_iq_train,\n",
    "                                                                                 y_iq_train,\n",
    "                                                                                 X_iq_test,\n",
    "                                                                                 y_iq_test,\n",
    "                                                                                 n_estimators_Iquitos,\n",
    "                                                                                 max_depths_Iquitos)"
   ]
  },
  {
   "cell_type": "code",
   "execution_count": 67,
   "metadata": {
    "collapsed": false
   },
   "outputs": [
    {
     "data": {
      "image/png": "[encoded data removed]",
      "text/plain": [
       "<matplotlib.figure.Figure at 0x7f98d52a7c88>"
      ]
     },
     "metadata": {},
     "output_type": "display_data"
    }
   ],
   "source": [
    "plt.figure(figsize=(8, 6))\n",
    "plt.subplots_adjust(left=.2, right=0.95, bottom=0.15, top=0.95)\n",
    "plt.imshow(scores__mean_absulute_error_iq, interpolation='nearest', cmap=plt.cm.hot_r)\n",
    "plt.ylabel('n_estimators')\n",
    "plt.xlabel('max_depth')\n",
    "plt.colorbar()\n",
    "plt.yticks(np.arange(len(n_estimators_Iquitos)), n_estimators_Iquitos, rotation=45)\n",
    "plt.xticks(np.arange(len(max_depths_Iquitos)), max_depths_Iquitos)\n",
    "plt.title('Validation accuracy for Iquitos')\n",
    "plt.show()"
   ]
  },
  {
   "cell_type": "code",
   "execution_count": 68,
   "metadata": {
    "collapsed": true
   },
   "outputs": [],
   "source": [
    "regressor_RF_sj = RandomForestRegressor(n_estimators = n_estimators_sj ,\n",
    "                                        max_depth=max_depth_sj,\n",
    "                                        random_state=101,\n",
    "                                        n_jobs=8)\n",
    "\n",
    "regressor_RF_iq = RandomForestRegressor(n_estimators=n_estimators_iq ,\n",
    "                                        max_depth=max_depth_iq,\n",
    "                                        random_state=101,\n",
    "                                        n_jobs=8)"
   ]
  },
  {
   "cell_type": "code",
   "execution_count": 69,
   "metadata": {
    "collapsed": false
   },
   "outputs": [
    {
     "data": {
      "text/plain": [
       "RandomForestRegressor(bootstrap=True, criterion='mse', max_depth=20,\n",
       "           max_features='auto', max_leaf_nodes=None,\n",
       "           min_impurity_split=1e-07, min_samples_leaf=1,\n",
       "           min_samples_split=2, min_weight_fraction_leaf=0.0,\n",
       "           n_estimators=400, n_jobs=8, oob_score=False, random_state=101,\n",
       "           verbose=0, warm_start=False)"
      ]
     },
     "execution_count": 69,
     "metadata": {},
     "output_type": "execute_result"
    }
   ],
   "source": [
    "regressor_RF_sj.fit(X_sj_train,y_sj_train)\n",
    "regressor_RF_iq.fit(X_iq_train,y_iq_train)"
   ]
  },
  {
   "cell_type": "code",
   "execution_count": 70,
   "metadata": {
    "collapsed": false
   },
   "outputs": [],
   "source": [
    "predictions_sj = regressor_RF_sj.predict(X_sj_test)\n",
    "predictions_iq = regressor_RF_iq.predict(X_iq_test)"
   ]
  },
  {
   "cell_type": "code",
   "execution_count": 71,
   "metadata": {
    "collapsed": false
   },
   "outputs": [
    {
     "name": "stdout",
     "output_type": "stream",
     "text": [
      "For San Juan\n",
      " \n",
      "mean_squared_error: 1419.9926058719068\n",
      "mean_absolute_error: 30.03062610009524\n",
      "\n",
      "For Iquitos\n",
      " \n",
      "mean_squared_error: 135.33324174713763\n",
      "mean_absolute_error: 7.579228339837941\n"
     ]
    },
    {
     "data": {
      "text/plain": [
       "<matplotlib.legend.Legend at 0x7f98d8138978>"
      ]
     },
     "execution_count": 71,
     "metadata": {},
     "output_type": "execute_result"
    },
    {
     "data": {
      "image/png": "[encoded data removed]",
      "text/plain": [
       "<matplotlib.figure.Figure at 0x7f98d7ff4ba8>"
      ]
     },
     "metadata": {},
     "output_type": "display_data"
    },
    {
     "data": {
      "image/png": "[encoded data removed]",
      "text/plain": [
       "<matplotlib.figure.Figure at 0x7f98d80cf0b8>"
      ]
     },
     "metadata": {},
     "output_type": "display_data"
    }
   ],
   "source": [
    "from sklearn.metrics import mean_squared_error\n",
    "\n",
    "print(\"For San Juan\\n \")\n",
    "print(\"mean_squared_error: {0}\".format(mean_squared_error(y_sj_test, predictions_sj)))\n",
    "print(\"mean_absolute_error: {0}\".format(mean_absolute_error(y_sj_test, predictions_sj)))\n",
    "print(\"\\nFor Iquitos\\n \")\n",
    "print(\"mean_squared_error: {0}\".format(mean_squared_error(y_iq_test, predictions_iq)))\n",
    "print(\"mean_absolute_error: {0}\".format(mean_absolute_error(y_iq_test, predictions_iq)))\n",
    "\n",
    "df1 = pd.DataFrame({\"predicted\":predictions_sj,\"actual\":y_sj_test})\n",
    "\n",
    "df1.plot()\n",
    "plt.title('San Juan: predicted vs actual')\n",
    "plt.xlabel('Time')\n",
    "\n",
    "df2 = pd.DataFrame({\"predicted\":predictions_iq,\"actual\":y_iq_test})\n",
    "\n",
    "df2.plot()\n",
    "plt.title('Iquitos: predicted vs actual')\n",
    "plt.xlabel('Time')\n",
    "\n",
    "plt.legend()"
   ]
  },
  {
   "cell_type": "code",
   "execution_count": 35,
   "metadata": {
    "collapsed": false
   },
   "outputs": [
    {
     "data": {
      "text/plain": [
       "RandomForestRegressor(bootstrap=True, criterion='mse', max_depth=10,\n",
       "           max_features='auto', max_leaf_nodes=None,\n",
       "           min_impurity_split=1e-07, min_samples_leaf=1,\n",
       "           min_samples_split=2, min_weight_fraction_leaf=0.0,\n",
       "           n_estimators=1200, n_jobs=8, oob_score=False, random_state=101,\n",
       "           verbose=0, warm_start=False)"
      ]
     },
     "execution_count": 35,
     "metadata": {},
     "output_type": "execute_result"
    }
   ],
   "source": [
    "regressor_RF_sj_final = RandomForestRegressor(n_estimators = n_estimators_sj ,\n",
    "                                        max_depth=max_depth_sj,\n",
    "                                        random_state=101,\n",
    "                                        n_jobs=8)\n",
    "\n",
    "regressor_RF_iq_final = RandomForestRegressor(n_estimators=n_estimators_iq ,\n",
    "                                        max_depth=max_depth_iq,\n",
    "                                        random_state=101,\n",
    "                                        n_jobs=8)\n",
    "\n",
    "regressor_RF_sj.fit(sj_features,sj_targets)\n",
    "regressor_RF_iq.fit(iq_features,iq_targets)"
   ]
  },
  {
   "cell_type": "code",
   "execution_count": 36,
   "metadata": {
    "collapsed": false
   },
   "outputs": [
    {
     "name": "stderr",
     "output_type": "stream",
     "text": [
      "/home/louis/anaconda3/lib/python3.6/site-packages/ipykernel/__main__.py:5: SettingWithCopyWarning: \n",
      "A value is trying to be set on a copy of a slice from a DataFrame.\n",
      "Try using .loc[row_indexer,col_indexer] = value instead\n",
      "\n",
      "See the caveats in the documentation: http://pandas.pydata.org/pandas-docs/stable/indexing.html#indexing-view-versus-copy\n",
      "/home/louis/anaconda3/lib/python3.6/site-packages/pandas/core/frame.py:2852: SettingWithCopyWarning: \n",
      "A value is trying to be set on a copy of a slice from a DataFrame\n",
      "\n",
      "See the caveats in the documentation: http://pandas.pydata.org/pandas-docs/stable/indexing.html#indexing-view-versus-copy\n",
      "  downcast=downcast, **kwargs)\n"
     ]
    }
   ],
   "source": [
    "sj_test, iq_test = preprocess_data('dengue_features_test.csv')\n",
    "\n",
    "\n",
    "\n",
    "sj_predictions = regressor_RF_sj.predict(sj_test).astype(int)\n",
    "iq_predictions = regressor_RF_iq.predict(iq_test).astype(int)\n",
    "\n",
    "submission = pd.read_csv(\"submission_format.csv\",\n",
    "                         index_col=[0, 1, 2])\n",
    "\n",
    "submission.total_cases = np.concatenate((sj_predictions, iq_predictions),axis=0)\n",
    "#submission.to_csv(\"random_forest_regression_test_more_lags_Iquitos.csv\")"
   ]
  },
  {
   "cell_type": "code",
   "execution_count": 37,
   "metadata": {
    "collapsed": false
   },
   "outputs": [
    {
     "data": {
      "text/plain": [
       "(260, 320)"
      ]
     },
     "execution_count": 37,
     "metadata": {},
     "output_type": "execute_result"
    }
   ],
   "source": [
    "\n"
   ]
  },
  {
   "cell_type": "code",
   "execution_count": 22,
   "metadata": {
    "collapsed": false
   },
   "outputs": [
    {
     "data": {
      "text/plain": [
       "(156, 1220)"
      ]
     },
     "execution_count": 22,
     "metadata": {},
     "output_type": "execute_result"
    }
   ],
   "source": []
  },
  {
   "cell_type": "code",
   "execution_count": null,
   "metadata": {
    "collapsed": true
   },
   "outputs": [],
   "source": []
  }
 ],
 "metadata": {
  "kernelspec": {
   "display_name": "Python 3",
   "language": "python",
   "name": "python3"
  },
  "language_info": {
   "codemirror_mode": {
    "name": "ipython",
    "version": 3
   },
   "file_extension": ".py",
   "mimetype": "text/x-python",
   "name": "python",
   "nbconvert_exporter": "python",
   "pygments_lexer": "ipython3",
   "version": "3.6.0"
  }
 },
 "nbformat": 4,
 "nbformat_minor": 2
}
