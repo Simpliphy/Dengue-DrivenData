{
 "cells": [
  {
   "cell_type": "code",
   "execution_count": 1,
   "metadata": {
    "collapsed": true
   },
   "outputs": [],
   "source": [
    "import pandas as pd\n",
    "import numpy as np\n",
    "import matplotlib.pyplot as plt\n",
    "import seaborn as sns\n",
    "from IPython.display import HTML\n",
    "\n",
    "%matplotlib inline"
   ]
  },
  {
   "cell_type": "code",
   "execution_count": null,
   "metadata": {
    "collapsed": false
   },
   "outputs": [
    {
     "name": "stdout",
     "output_type": "stream",
     "text": [
      "\u001b[01;34m.\u001b[00m\r\n",
      "├── 1-Data-exploration.ipynb\r\n",
      "├── 2-Learning.ipynb\r\n",
      "├── 2-Learning-Iquitos.ipynb\r\n",
      "├── 2-Learning-SanJuan-Copy1.ipynb\r\n",
      "├── 2-Learning-SanJuan.ipynb\r\n",
      "├── 2-Median Submission.ipynb\r\n",
      "├── data_processing.py\r\n",
      "├── dengue_features_test.csv\r\n",
      "├── dengue_features_train.csv\r\n",
      "├── dengue_labels_train.csv\r\n",
      "├── \u001b[01;35mIquitos-plaza.jpg\u001b[00m\r\n",
      "├── median_as_prediction.csv\r\n",
      "├── optimizationOfModels.py\r\n",
      "├── \u001b[01;34m__pycache__\u001b[00m\r\n",
      "│   ├── data_processing.cpython-36.pyc\r\n",
      "│   └── optimizationOfModels.cpython-36.pyc\r\n",
      "├── README.md\r\n",
      "├── SanJuan-ElasticNet_Iquitos-RandomForest.csv\r\n",
      "├── San_Juan-Puerto_Rico.JPG\r\n",
      "├── SanJuan-RandomForest_Iquitos-RandomForest.csv\r\n",
      "├── SanJuan-RandomForest_Iquitos-RandomForest-lags-15-20.csv\r\n",
      "├── SanJuan-RandomForest_Iquitos-RandomForest-shifted.csv\r\n",
      "└── submission_format.csv\r\n",
      "\r\n",
      "1 directory, 22 files\r\n"
     ]
    }
   ],
   "source": [
    "!tree"
   ]
  },
  {
   "cell_type": "markdown",
   "metadata": {},
   "source": [
    "# 1. Data import and processing "
   ]
  },
  {
   "cell_type": "code",
   "execution_count": null,
   "metadata": {
    "collapsed": false
   },
   "outputs": [
    {
     "name": "stderr",
     "output_type": "stream",
     "text": [
      "/home/louis/Documents/Doctorat/OnlineDatasets/dengue-drivendata/data_processing.py:12: SettingWithCopyWarning: \n",
      "A value is trying to be set on a copy of a slice from a DataFrame.\n",
      "Try using .loc[row_indexer,col_indexer] = value instead\n",
      "\n",
      "See the caveats in the documentation: http://pandas.pydata.org/pandas-docs/stable/indexing.html#indexing-view-versus-copy\n",
      "  dataframe[column + \"_time - \" + str(lag)] = dataframe[column].shift(lag)  # copy the previous value\n",
      "/home/louis/anaconda3/lib/python3.6/site-packages/pandas/core/frame.py:2852: SettingWithCopyWarning: \n",
      "A value is trying to be set on a copy of a slice from a DataFrame\n",
      "\n",
      "See the caveats in the documentation: http://pandas.pydata.org/pandas-docs/stable/indexing.html#indexing-view-versus-copy\n",
      "  downcast=downcast, **kwargs)\n"
     ]
    }
   ],
   "source": [
    "from data_processing import preprocess_data,split_time_series,preprocess_data_with_PCA\n",
    "\n",
    "lag_step_for_SanJuan = 15\n",
    "lag_step_for_Iquitos = 20\n",
    "\n",
    "sanJuan_data, iquitos_data = preprocess_data('dengue_features_train.csv',\n",
    "                                    labels_path=\"dengue_labels_train.csv\",\n",
    "                                    lag_step_for_SanJuan = lag_step_for_SanJuan,\n",
    "                                    lag_step_for_Iquitos = lag_step_for_Iquitos)\n",
    "\n",
    "\n",
    "sanJuan_features = sanJuan_data.drop('total_cases', axis=1)\n",
    "sanJuan_targets = sanJuan_data['total_cases']\n",
    "\n",
    "iquitos_features = iquitos_data.drop('total_cases', axis=1)\n",
    "iquitos_targets = iquitos_data['total_cases']"
   ]
  },
  {
   "cell_type": "markdown",
   "metadata": {},
   "source": [
    "# 2. Training "
   ]
  },
  {
   "cell_type": "code",
   "execution_count": null,
   "metadata": {
    "collapsed": false
   },
   "outputs": [],
   "source": [
    "\n",
    "test_set_ratio = 0.3 \n",
    "\n",
    "X_sj_train, X_sj_test, y_sj_train, y_sj_test = split_time_series(sanJuan_features, sanJuan_targets, test_set_ratio)\n",
    "X_iq_train, X_iq_test, y_iq_train, y_iq_test = split_time_series(iquitos_features, iquitos_targets, test_set_ratio)\n"
   ]
  },
  {
   "cell_type": "markdown",
   "metadata": {},
   "source": [
    "## 2.1 Optimization of parameters for San Juan"
   ]
  },
  {
   "cell_type": "code",
   "execution_count": null,
   "metadata": {
    "collapsed": false
   },
   "outputs": [],
   "source": [
    "from optimizationOfModels import find_best_params_ElasticNet, find_best_params_RandomForest"
   ]
  },
  {
   "cell_type": "code",
   "execution_count": null,
   "metadata": {
    "collapsed": false
   },
   "outputs": [],
   "source": [
    "parameters1_SanJuan = [10,20,50,100,200,300,500]\n",
    "parameters2_SanJuan = [10,15,20,40,50,100]\n",
    "\n",
    "param1_sj, param2_sj, scores__mean_absulute_error_sj = find_best_params_RandomForest(X_sj_train,\n",
    "                                                                                 y_sj_train,\n",
    "                                                                                 X_sj_test,\n",
    "                                                                                 y_sj_test,\n",
    "                                                                                 parameters1_SanJuan,\n",
    "                                                                                 parameters2_SanJuan)"
   ]
  },
  {
   "cell_type": "code",
   "execution_count": null,
   "metadata": {
    "collapsed": false
   },
   "outputs": [],
   "source": [
    "plt.figure(figsize=(8, 6))\n",
    "plt.subplots_adjust(left=.2, right=0.95, bottom=0.15, top=0.95)\n",
    "plt.imshow(scores__mean_absulute_error_sj, interpolation='nearest', cmap=plt.cm.hot_r)\n",
    "plt.ylabel('alpha')\n",
    "plt.xlabel('--')\n",
    "plt.colorbar()\n",
    "plt.yticks(np.arange(len(parameters1_SanJuan)), parameters1_SanJuan, rotation=45)\n",
    "plt.xticks(np.arange(len(parameters2_SanJuan)), parameters2_SanJuan)\n",
    "plt.title('Validation accuracy for San Juan')\n",
    "plt.show()"
   ]
  },
  {
   "cell_type": "markdown",
   "metadata": {},
   "source": [
    "## 2.2 Optimization of parameters for Iquitos"
   ]
  },
  {
   "cell_type": "code",
   "execution_count": null,
   "metadata": {
    "collapsed": false
   },
   "outputs": [],
   "source": [
    "parameters1_Iquitos = [20,50,100,200,300,400,500]\n",
    "parameters2_Iquitos = [10,15,20,40]\n",
    "\n",
    "param1_iq, param2_iq, scores__mean_absulute_error_iq = find_best_params_RandomForest(X_iq_train,\n",
    "                                                                                 y_iq_train,\n",
    "                                                                                 X_iq_test,\n",
    "                                                                                 y_iq_test,\n",
    "                                                                                 parameters1_Iquitos,\n",
    "                                                                                 parameters2_Iquitos)"
   ]
  },
  {
   "cell_type": "code",
   "execution_count": null,
   "metadata": {
    "collapsed": false
   },
   "outputs": [],
   "source": [
    "plt.figure(figsize=(8, 6))\n",
    "plt.subplots_adjust(left=.2, right=0.95, bottom=0.15, top=0.95)\n",
    "plt.imshow(scores__mean_absulute_error_iq, interpolation='nearest', cmap=plt.cm.hot_r)\n",
    "plt.ylabel('n_estimators')\n",
    "plt.xlabel('max_depth')\n",
    "plt.colorbar()\n",
    "plt.yticks(np.arange(len(parameters1_Iquitos)), parameters1_Iquitos, rotation=45)\n",
    "plt.xticks(np.arange(len(parameters2_Iquitos)), parameters2_Iquitos)\n",
    "plt.title('Validation accuracy for Iquitos')\n",
    "plt.show()"
   ]
  },
  {
   "cell_type": "markdown",
   "metadata": {},
   "source": [
    "## 2.3 Final evaluation of models"
   ]
  },
  {
   "cell_type": "code",
   "execution_count": null,
   "metadata": {
    "collapsed": false
   },
   "outputs": [],
   "source": [
    "from sklearn.linear_model import ElasticNet\n",
    "from sklearn.ensemble import RandomForestRegressor\n",
    "\n",
    "#regressor_sj = ElasticNet(alpha=param1_sj,\n",
    "#                          l1_ratio=param2_sj)\n",
    "regressor_sj = RandomForestRegressor(n_estimators=param1_sj,\n",
    "                                     max_depth=param2_sj,\n",
    "                                     criterion='mse',\n",
    "                                     warm_start = True,\n",
    "                                     random_state=0,\n",
    "                                     n_jobs=8)\n",
    "\n",
    "regressor_iq = RandomForestRegressor(n_estimators=param1_iq,\n",
    "                                     max_depth=param2_iq,\n",
    "                                     criterion='mse',\n",
    "                                     warm_start = True,\n",
    "                                     random_state=0,\n",
    "                                     n_jobs=8)"
   ]
  },
  {
   "cell_type": "code",
   "execution_count": null,
   "metadata": {
    "collapsed": false
   },
   "outputs": [],
   "source": [
    "regressor_sj.fit(X_sj_train,y_sj_train)\n"
   ]
  },
  {
   "cell_type": "code",
   "execution_count": null,
   "metadata": {
    "collapsed": false
   },
   "outputs": [],
   "source": [
    "regressor_iq.fit(X_iq_train,y_iq_train)"
   ]
  },
  {
   "cell_type": "code",
   "execution_count": null,
   "metadata": {
    "collapsed": false
   },
   "outputs": [],
   "source": [
    "df_features_importance = pd.concat((pd.DataFrame(X_sj_train.columns, columns = ['variable']), \n",
    "           pd.DataFrame(regressor_sj.feature_importances_, columns = ['importance'])), \n",
    "          axis = 1).sort_values(by='importance', ascending = False)[:20]\n",
    "\n",
    "df_features_importance.plot.bar(x=df_features_importance['variable'])"
   ]
  },
  {
   "cell_type": "code",
   "execution_count": null,
   "metadata": {
    "collapsed": false
   },
   "outputs": [],
   "source": [
    "predictions_sj = regressor_sj.predict(X_sj_test)\n",
    "predictions_iq = regressor_iq.predict(X_iq_test)"
   ]
  },
  {
   "cell_type": "code",
   "execution_count": null,
   "metadata": {
    "collapsed": false
   },
   "outputs": [],
   "source": [
    "from sklearn.metrics import mean_squared_error, mean_absolute_error\n",
    "\n",
    "print(\"For San Juan\\n \")\n",
    "print(\"mean_squared_error: {0}\".format(mean_squared_error(y_sj_test, predictions_sj)))\n",
    "print(\"mean_absolute_error: {0}\".format(mean_absolute_error(y_sj_test, predictions_sj)))\n",
    "\n",
    "\n",
    "df1 = pd.DataFrame({\"predicted\":predictions_sj,\"actual\":y_sj_test})\n",
    "\n",
    "df1.plot()\n",
    "plt.title('San Juan: predicted vs actual')\n",
    "plt.xlabel('Time')\n",
    "plt.legend()"
   ]
  },
  {
   "cell_type": "code",
   "execution_count": null,
   "metadata": {
    "collapsed": false
   },
   "outputs": [],
   "source": [
    "print(\"\\nFor Iquitos\\n \")\n",
    "print(\"mean_squared_error: {0}\".format(mean_squared_error(y_iq_test, predictions_iq)))\n",
    "print(\"mean_absolute_error: {0}\".format(mean_absolute_error(y_iq_test, predictions_iq)))\n",
    "\n",
    "df2 = pd.DataFrame({\"predicted\":predictions_iq,\"actual\":y_iq_test})\n",
    "\n",
    "df2.plot()\n",
    "plt.title('Iquitos: predicted vs actual')\n",
    "plt.xlabel('Time')\n",
    "\n",
    "plt.legend()"
   ]
  },
  {
   "cell_type": "code",
   "execution_count": null,
   "metadata": {
    "collapsed": false
   },
   "outputs": [],
   "source": [
    "predictions_sj = regressor_sj.predict(sanJuan_features)\n",
    "predictions_iq = regressor_iq.predict(iquitos_features)"
   ]
  },
  {
   "cell_type": "code",
   "execution_count": null,
   "metadata": {
    "collapsed": false
   },
   "outputs": [],
   "source": [
    "from sklearn.metrics import mean_squared_error, mean_absolute_error\n",
    "\n",
    "print(\"For San Juan\\n \")\n",
    "print(\"mean_squared_error: {0}\".format(mean_squared_error(sanJuan_targets, predictions_sj)))\n",
    "print(\"mean_absolute_error: {0}\".format(mean_absolute_error(sanJuan_targets, predictions_sj)))\n",
    "\n",
    "df1 = pd.DataFrame({\"predicted\":predictions_sj,\"actual\":sanJuan_targets})\n",
    "\n",
    "df1.plot()\n",
    "plt.title('San Juan: predicted vs actual')\n",
    "plt.xlabel('Time')\n",
    "plt.legend()"
   ]
  },
  {
   "cell_type": "code",
   "execution_count": null,
   "metadata": {
    "collapsed": false
   },
   "outputs": [],
   "source": [
    "print(\"\\nFor Iquitos\\n \")\n",
    "print(\"mean_squared_error: {0}\".format(mean_squared_error(iquitos_targets, predictions_iq)))\n",
    "print(\"mean_absolute_error: {0}\".format(mean_absolute_error(iquitos_targets, predictions_iq)))\n",
    "\n",
    "\n",
    "df2 = pd.DataFrame({\"predicted\":predictions_iq,\"actual\":iquitos_targets})\n",
    "\n",
    "df2.plot()\n",
    "plt.title('Iquitos: predicted vs actual')\n",
    "plt.xlabel('Time')\n",
    "\n",
    "plt.legend()"
   ]
  },
  {
   "cell_type": "markdown",
   "metadata": {},
   "source": [
    "# 3. Submission"
   ]
  },
  {
   "cell_type": "code",
   "execution_count": null,
   "metadata": {
    "collapsed": false
   },
   "outputs": [],
   "source": [
    "regressor_sj.fit(sanJuan_features,sanJuan_targets)"
   ]
  },
  {
   "cell_type": "code",
   "execution_count": null,
   "metadata": {
    "collapsed": false
   },
   "outputs": [],
   "source": [
    "regressor_iq.fit(iquitos_features,iquitos_targets)"
   ]
  },
  {
   "cell_type": "code",
   "execution_count": null,
   "metadata": {
    "collapsed": false
   },
   "outputs": [],
   "source": [
    "from data_processing import preprocess_data_with_PCA_for_test\n",
    "\n",
    "sj_test , iq_test = preprocess_data('dengue_features_test.csv',\n",
    "                                   lag_step_for_SanJuan = lag_step_for_SanJuan,\n",
    "                                   lag_step_for_Iquitos = lag_step_for_Iquitos)\n",
    "\n",
    "\n",
    "\n",
    "\n",
    "\n",
    "sj_predictions = regressor_sj.predict(sj_test).astype(int)\n",
    "iq_predictions = regressor_iq.predict(iq_test).astype(int)\n",
    "\n",
    "submission = pd.read_csv(\"submission_format.csv\",\n",
    "                         index_col=[0, 1, 2])\n",
    "\n",
    "\n",
    "submission.total_cases = np.concatenate((sj_predictions, iq_predictions),axis=0)\n",
    "submission.to_csv(\"SanJuan-RandomForest_Iquitos-RandomForest-lags-15-15.csv\")\n"
   ]
  },
  {
   "cell_type": "code",
   "execution_count": null,
   "metadata": {
    "collapsed": false
   },
   "outputs": [],
   "source": []
  },
  {
   "cell_type": "code",
   "execution_count": null,
   "metadata": {
    "collapsed": true
   },
   "outputs": [],
   "source": []
  }
 ],
 "metadata": {
  "kernelspec": {
   "display_name": "Python 3",
   "language": "python",
   "name": "python3"
  },
  "language_info": {
   "codemirror_mode": {
    "name": "ipython",
    "version": 3
   },
   "file_extension": ".py",
   "mimetype": "text/x-python",
   "name": "python",
   "nbconvert_exporter": "python",
   "pygments_lexer": "ipython3",
   "version": "3.6.0"
  }
 },
 "nbformat": 4,
 "nbformat_minor": 2
}
